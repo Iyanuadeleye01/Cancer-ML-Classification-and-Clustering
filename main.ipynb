{
 "cells": [
  {
   "cell_type": "code",
   "execution_count": 155,
   "id": "e4c94e13",
   "metadata": {},
   "outputs": [],
   "source": [
    "import pandas as pd\n",
    "import matplotlib.pyplot as plt\n",
    "import seaborn as sns\n",
    "import plotly as px"
   ]
  },
  {
   "cell_type": "markdown",
   "id": "6f3294e8",
   "metadata": {},
   "source": [
    "#### Data Preprocessing"
   ]
  },
  {
   "cell_type": "code",
   "execution_count": 95,
   "id": "dc73ded6",
   "metadata": {},
   "outputs": [
    {
     "data": {
      "text/html": [
       "<div>\n",
       "<style scoped>\n",
       "    .dataframe tbody tr th:only-of-type {\n",
       "        vertical-align: middle;\n",
       "    }\n",
       "\n",
       "    .dataframe tbody tr th {\n",
       "        vertical-align: top;\n",
       "    }\n",
       "\n",
       "    .dataframe thead th {\n",
       "        text-align: right;\n",
       "    }\n",
       "</style>\n",
       "<table border=\"1\" class=\"dataframe\">\n",
       "  <thead>\n",
       "    <tr style=\"text-align: right;\">\n",
       "      <th></th>\n",
       "      <th>Patient_ID</th>\n",
       "      <th>Age</th>\n",
       "      <th>Gender</th>\n",
       "      <th>Nationality</th>\n",
       "      <th>Emirate</th>\n",
       "      <th>Diagnosis_Date</th>\n",
       "      <th>Cancer_Type</th>\n",
       "      <th>Cancer_Stage</th>\n",
       "      <th>Treatment_Type</th>\n",
       "      <th>Treatment_Start_Date</th>\n",
       "      <th>Hospital</th>\n",
       "      <th>Primary_Physician</th>\n",
       "      <th>Outcome</th>\n",
       "      <th>Death_Date</th>\n",
       "      <th>Cause_of_Death</th>\n",
       "      <th>Smoking_Status</th>\n",
       "      <th>Comorbidities</th>\n",
       "      <th>Ethnicity</th>\n",
       "      <th>Weight</th>\n",
       "      <th>Height</th>\n",
       "    </tr>\n",
       "  </thead>\n",
       "  <tbody>\n",
       "    <tr>\n",
       "      <th>0</th>\n",
       "      <td>PAT000001</td>\n",
       "      <td>69</td>\n",
       "      <td>Female</td>\n",
       "      <td>Emirati</td>\n",
       "      <td>Umm Al Quwain</td>\n",
       "      <td>2020-11-30</td>\n",
       "      <td>Liver</td>\n",
       "      <td>II</td>\n",
       "      <td>Radiation</td>\n",
       "      <td>2020-12-04</td>\n",
       "      <td>Sheikh Khalifa Hospital</td>\n",
       "      <td>Dr. VO41</td>\n",
       "      <td>Recovered</td>\n",
       "      <td>NaN</td>\n",
       "      <td>NaN</td>\n",
       "      <td>Non-Smoker</td>\n",
       "      <td>NaN</td>\n",
       "      <td>European</td>\n",
       "      <td>61</td>\n",
       "      <td>157</td>\n",
       "    </tr>\n",
       "    <tr>\n",
       "      <th>1</th>\n",
       "      <td>PAT000002</td>\n",
       "      <td>32</td>\n",
       "      <td>Male</td>\n",
       "      <td>Emirati</td>\n",
       "      <td>Umm Al Quwain</td>\n",
       "      <td>2015-10-10</td>\n",
       "      <td>Leukemia</td>\n",
       "      <td>III</td>\n",
       "      <td>Surgery</td>\n",
       "      <td>2015-11-05</td>\n",
       "      <td>Dubai Hospital</td>\n",
       "      <td>Dr. SM31</td>\n",
       "      <td>Recovered</td>\n",
       "      <td>NaN</td>\n",
       "      <td>NaN</td>\n",
       "      <td>Smoker</td>\n",
       "      <td>NaN</td>\n",
       "      <td>South Asian</td>\n",
       "      <td>80</td>\n",
       "      <td>175</td>\n",
       "    </tr>\n",
       "    <tr>\n",
       "      <th>2</th>\n",
       "      <td>PAT000003</td>\n",
       "      <td>89</td>\n",
       "      <td>Male</td>\n",
       "      <td>Emirati</td>\n",
       "      <td>Abu Dhabi</td>\n",
       "      <td>2018-02-13</td>\n",
       "      <td>Liver</td>\n",
       "      <td>III</td>\n",
       "      <td>Radiation</td>\n",
       "      <td>2018-08-03</td>\n",
       "      <td>Zayed Military Hospital</td>\n",
       "      <td>Dr. BC7</td>\n",
       "      <td>Under Treatment</td>\n",
       "      <td>NaN</td>\n",
       "      <td>NaN</td>\n",
       "      <td>Non-Smoker</td>\n",
       "      <td>NaN</td>\n",
       "      <td>South Asian</td>\n",
       "      <td>50</td>\n",
       "      <td>175</td>\n",
       "    </tr>\n",
       "    <tr>\n",
       "      <th>3</th>\n",
       "      <td>PAT000004</td>\n",
       "      <td>78</td>\n",
       "      <td>Female</td>\n",
       "      <td>Emirati</td>\n",
       "      <td>Abu Dhabi</td>\n",
       "      <td>2022-02-04</td>\n",
       "      <td>Lung</td>\n",
       "      <td>III</td>\n",
       "      <td>Radiation</td>\n",
       "      <td>2022-03-13</td>\n",
       "      <td>Cleveland Clinic Abu Dhabi</td>\n",
       "      <td>Dr. TC14</td>\n",
       "      <td>Recovered</td>\n",
       "      <td>NaN</td>\n",
       "      <td>NaN</td>\n",
       "      <td>Former Smoker</td>\n",
       "      <td>NaN</td>\n",
       "      <td>African</td>\n",
       "      <td>44</td>\n",
       "      <td>155</td>\n",
       "    </tr>\n",
       "    <tr>\n",
       "      <th>4</th>\n",
       "      <td>PAT000005</td>\n",
       "      <td>38</td>\n",
       "      <td>Female</td>\n",
       "      <td>Emirati</td>\n",
       "      <td>Fujairah</td>\n",
       "      <td>2019-12-03</td>\n",
       "      <td>Pancreatic</td>\n",
       "      <td>II</td>\n",
       "      <td>Chemotherapy</td>\n",
       "      <td>2020-02-29</td>\n",
       "      <td>Sheikh Khalifa Hospital</td>\n",
       "      <td>Dr. YS37</td>\n",
       "      <td>Recovered</td>\n",
       "      <td>NaN</td>\n",
       "      <td>NaN</td>\n",
       "      <td>Former Smoker</td>\n",
       "      <td>NaN</td>\n",
       "      <td>East Asian</td>\n",
       "      <td>101</td>\n",
       "      <td>160</td>\n",
       "    </tr>\n",
       "    <tr>\n",
       "      <th>5</th>\n",
       "      <td>PAT000006</td>\n",
       "      <td>41</td>\n",
       "      <td>Female</td>\n",
       "      <td>Emirati</td>\n",
       "      <td>Abu Dhabi</td>\n",
       "      <td>2015-02-10</td>\n",
       "      <td>Breast</td>\n",
       "      <td>I</td>\n",
       "      <td>Surgery</td>\n",
       "      <td>2015-04-21</td>\n",
       "      <td>Dubai Hospital</td>\n",
       "      <td>Dr. ZL30</td>\n",
       "      <td>Recovered</td>\n",
       "      <td>NaN</td>\n",
       "      <td>NaN</td>\n",
       "      <td>Smoker</td>\n",
       "      <td>Hypertension</td>\n",
       "      <td>European</td>\n",
       "      <td>59</td>\n",
       "      <td>176</td>\n",
       "    </tr>\n",
       "    <tr>\n",
       "      <th>6</th>\n",
       "      <td>PAT000007</td>\n",
       "      <td>20</td>\n",
       "      <td>Male</td>\n",
       "      <td>Emirati</td>\n",
       "      <td>Ras Al Khaimah</td>\n",
       "      <td>2023-02-27</td>\n",
       "      <td>Ovarian</td>\n",
       "      <td>IV</td>\n",
       "      <td>Chemotherapy</td>\n",
       "      <td>2023-05-15</td>\n",
       "      <td>Sheikh Khalifa Hospital</td>\n",
       "      <td>Dr. AL45</td>\n",
       "      <td>Recovered</td>\n",
       "      <td>NaN</td>\n",
       "      <td>NaN</td>\n",
       "      <td>Non-Smoker</td>\n",
       "      <td>Hypertension</td>\n",
       "      <td>Arab</td>\n",
       "      <td>66</td>\n",
       "      <td>155</td>\n",
       "    </tr>\n",
       "    <tr>\n",
       "      <th>7</th>\n",
       "      <td>PAT000008</td>\n",
       "      <td>39</td>\n",
       "      <td>Male</td>\n",
       "      <td>Expatriate</td>\n",
       "      <td>Sharjah</td>\n",
       "      <td>2018-04-05</td>\n",
       "      <td>Breast</td>\n",
       "      <td>I</td>\n",
       "      <td>Surgery</td>\n",
       "      <td>2018-08-10</td>\n",
       "      <td>Sheikh Khalifa Hospital</td>\n",
       "      <td>Dr. IL20</td>\n",
       "      <td>Under Treatment</td>\n",
       "      <td>NaN</td>\n",
       "      <td>NaN</td>\n",
       "      <td>Non-Smoker</td>\n",
       "      <td>NaN</td>\n",
       "      <td>South Asian</td>\n",
       "      <td>27</td>\n",
       "      <td>189</td>\n",
       "    </tr>\n",
       "    <tr>\n",
       "      <th>8</th>\n",
       "      <td>PAT000009</td>\n",
       "      <td>70</td>\n",
       "      <td>Female</td>\n",
       "      <td>Emirati</td>\n",
       "      <td>Umm Al Quwain</td>\n",
       "      <td>2022-12-12</td>\n",
       "      <td>Lung</td>\n",
       "      <td>III</td>\n",
       "      <td>Immunotherapy</td>\n",
       "      <td>2023-05-29</td>\n",
       "      <td>Dubai Hospital</td>\n",
       "      <td>Dr. KH33</td>\n",
       "      <td>Deceased</td>\n",
       "      <td>2024-12-22 00:00:00</td>\n",
       "      <td>Cancer</td>\n",
       "      <td>Non-Smoker</td>\n",
       "      <td>NaN</td>\n",
       "      <td>South Asian</td>\n",
       "      <td>60</td>\n",
       "      <td>162</td>\n",
       "    </tr>\n",
       "    <tr>\n",
       "      <th>9</th>\n",
       "      <td>PAT000010</td>\n",
       "      <td>19</td>\n",
       "      <td>Female</td>\n",
       "      <td>Emirati</td>\n",
       "      <td>Dubai</td>\n",
       "      <td>2018-05-29</td>\n",
       "      <td>Breast</td>\n",
       "      <td>I</td>\n",
       "      <td>Surgery</td>\n",
       "      <td>2018-07-25</td>\n",
       "      <td>Cleveland Clinic Abu Dhabi</td>\n",
       "      <td>Dr. GX45</td>\n",
       "      <td>Recovered</td>\n",
       "      <td>NaN</td>\n",
       "      <td>NaN</td>\n",
       "      <td>Non-Smoker</td>\n",
       "      <td>NaN</td>\n",
       "      <td>East Asian</td>\n",
       "      <td>73</td>\n",
       "      <td>180</td>\n",
       "    </tr>\n",
       "  </tbody>\n",
       "</table>\n",
       "</div>"
      ],
      "text/plain": [
       "  Patient_ID  Age  Gender Nationality         Emirate Diagnosis_Date  \\\n",
       "0  PAT000001   69  Female     Emirati   Umm Al Quwain     2020-11-30   \n",
       "1  PAT000002   32    Male     Emirati   Umm Al Quwain     2015-10-10   \n",
       "2  PAT000003   89    Male     Emirati       Abu Dhabi     2018-02-13   \n",
       "3  PAT000004   78  Female     Emirati       Abu Dhabi     2022-02-04   \n",
       "4  PAT000005   38  Female     Emirati        Fujairah     2019-12-03   \n",
       "5  PAT000006   41  Female     Emirati       Abu Dhabi     2015-02-10   \n",
       "6  PAT000007   20    Male     Emirati  Ras Al Khaimah     2023-02-27   \n",
       "7  PAT000008   39    Male  Expatriate         Sharjah     2018-04-05   \n",
       "8  PAT000009   70  Female     Emirati   Umm Al Quwain     2022-12-12   \n",
       "9  PAT000010   19  Female     Emirati           Dubai     2018-05-29   \n",
       "\n",
       "  Cancer_Type Cancer_Stage Treatment_Type Treatment_Start_Date  \\\n",
       "0       Liver           II      Radiation           2020-12-04   \n",
       "1    Leukemia          III        Surgery           2015-11-05   \n",
       "2       Liver          III      Radiation           2018-08-03   \n",
       "3        Lung          III      Radiation           2022-03-13   \n",
       "4  Pancreatic           II   Chemotherapy           2020-02-29   \n",
       "5      Breast            I        Surgery           2015-04-21   \n",
       "6     Ovarian           IV   Chemotherapy           2023-05-15   \n",
       "7      Breast            I        Surgery           2018-08-10   \n",
       "8        Lung          III  Immunotherapy           2023-05-29   \n",
       "9      Breast            I        Surgery           2018-07-25   \n",
       "\n",
       "                     Hospital Primary_Physician          Outcome  \\\n",
       "0     Sheikh Khalifa Hospital          Dr. VO41        Recovered   \n",
       "1              Dubai Hospital          Dr. SM31        Recovered   \n",
       "2     Zayed Military Hospital           Dr. BC7  Under Treatment   \n",
       "3  Cleveland Clinic Abu Dhabi          Dr. TC14        Recovered   \n",
       "4     Sheikh Khalifa Hospital          Dr. YS37        Recovered   \n",
       "5              Dubai Hospital          Dr. ZL30        Recovered   \n",
       "6     Sheikh Khalifa Hospital          Dr. AL45        Recovered   \n",
       "7     Sheikh Khalifa Hospital          Dr. IL20  Under Treatment   \n",
       "8              Dubai Hospital          Dr. KH33         Deceased   \n",
       "9  Cleveland Clinic Abu Dhabi          Dr. GX45        Recovered   \n",
       "\n",
       "            Death_Date Cause_of_Death Smoking_Status Comorbidities  \\\n",
       "0                  NaN            NaN     Non-Smoker           NaN   \n",
       "1                  NaN            NaN         Smoker           NaN   \n",
       "2                  NaN            NaN     Non-Smoker           NaN   \n",
       "3                  NaN            NaN  Former Smoker           NaN   \n",
       "4                  NaN            NaN  Former Smoker           NaN   \n",
       "5                  NaN            NaN         Smoker  Hypertension   \n",
       "6                  NaN            NaN     Non-Smoker  Hypertension   \n",
       "7                  NaN            NaN     Non-Smoker           NaN   \n",
       "8  2024-12-22 00:00:00         Cancer     Non-Smoker           NaN   \n",
       "9                  NaN            NaN     Non-Smoker           NaN   \n",
       "\n",
       "     Ethnicity  Weight  Height  \n",
       "0     European      61     157  \n",
       "1  South Asian      80     175  \n",
       "2  South Asian      50     175  \n",
       "3      African      44     155  \n",
       "4   East Asian     101     160  \n",
       "5     European      59     176  \n",
       "6         Arab      66     155  \n",
       "7  South Asian      27     189  \n",
       "8  South Asian      60     162  \n",
       "9   East Asian      73     180  "
      ]
     },
     "execution_count": 95,
     "metadata": {},
     "output_type": "execute_result"
    }
   ],
   "source": [
    "df = pd.read_csv('_cancer_dataset_uae.csv')\n",
    "df.head(10)"
   ]
  },
  {
   "cell_type": "code",
   "execution_count": 4,
   "id": "84a315f7",
   "metadata": {},
   "outputs": [
    {
     "data": {
      "text/plain": [
       "(10000, 20)"
      ]
     },
     "execution_count": 4,
     "metadata": {},
     "output_type": "execute_result"
    }
   ],
   "source": [
    "df.shape"
   ]
  },
  {
   "cell_type": "code",
   "execution_count": 5,
   "id": "1f199f59",
   "metadata": {},
   "outputs": [
    {
     "data": {
      "text/plain": [
       "np.int64(0)"
      ]
     },
     "execution_count": 5,
     "metadata": {},
     "output_type": "execute_result"
    }
   ],
   "source": [
    "df.duplicated().sum()"
   ]
  },
  {
   "cell_type": "code",
   "execution_count": 6,
   "id": "4c29fcec",
   "metadata": {},
   "outputs": [
    {
     "data": {
      "text/plain": [
       "Patient_ID                 0\n",
       "Age                        0\n",
       "Gender                     0\n",
       "Nationality                0\n",
       "Emirate                    0\n",
       "Diagnosis_Date             0\n",
       "Cancer_Type                0\n",
       "Cancer_Stage               0\n",
       "Treatment_Type             0\n",
       "Treatment_Start_Date       0\n",
       "Hospital                   0\n",
       "Primary_Physician          0\n",
       "Outcome                    0\n",
       "Death_Date              9008\n",
       "Cause_of_Death          9008\n",
       "Smoking_Status             0\n",
       "Comorbidities           4047\n",
       "Ethnicity                  0\n",
       "Weight                     0\n",
       "Height                     0\n",
       "dtype: int64"
      ]
     },
     "execution_count": 6,
     "metadata": {},
     "output_type": "execute_result"
    }
   ],
   "source": [
    "df.isna().sum()"
   ]
  },
  {
   "cell_type": "code",
   "execution_count": 8,
   "id": "0f8da2f7",
   "metadata": {},
   "outputs": [
    {
     "name": "stdout",
     "output_type": "stream",
     "text": [
      "<class 'pandas.core.frame.DataFrame'>\n",
      "RangeIndex: 10000 entries, 0 to 9999\n",
      "Data columns (total 20 columns):\n",
      " #   Column                Non-Null Count  Dtype \n",
      "---  ------                --------------  ----- \n",
      " 0   Patient_ID            10000 non-null  object\n",
      " 1   Age                   10000 non-null  int64 \n",
      " 2   Gender                10000 non-null  object\n",
      " 3   Nationality           10000 non-null  object\n",
      " 4   Emirate               10000 non-null  object\n",
      " 5   Diagnosis_Date        10000 non-null  object\n",
      " 6   Cancer_Type           10000 non-null  object\n",
      " 7   Cancer_Stage          10000 non-null  object\n",
      " 8   Treatment_Type        10000 non-null  object\n",
      " 9   Treatment_Start_Date  10000 non-null  object\n",
      " 10  Hospital              10000 non-null  object\n",
      " 11  Primary_Physician     10000 non-null  object\n",
      " 12  Outcome               10000 non-null  object\n",
      " 13  Death_Date            992 non-null    object\n",
      " 14  Cause_of_Death        992 non-null    object\n",
      " 15  Smoking_Status        10000 non-null  object\n",
      " 16  Comorbidities         5953 non-null   object\n",
      " 17  Ethnicity             10000 non-null  object\n",
      " 18  Weight                10000 non-null  int64 \n",
      " 19  Height                10000 non-null  int64 \n",
      "dtypes: int64(3), object(17)\n",
      "memory usage: 1.5+ MB\n"
     ]
    }
   ],
   "source": [
    "df.info()"
   ]
  },
  {
   "cell_type": "code",
   "execution_count": 9,
   "id": "78a4372e",
   "metadata": {},
   "outputs": [
    {
     "data": {
      "text/plain": [
       "Index(['Patient_ID', 'Age', 'Gender', 'Nationality', 'Emirate',\n",
       "       'Diagnosis_Date', 'Cancer_Type', 'Cancer_Stage', 'Treatment_Type',\n",
       "       'Treatment_Start_Date', 'Hospital', 'Primary_Physician', 'Outcome',\n",
       "       'Death_Date', 'Cause_of_Death', 'Smoking_Status', 'Comorbidities',\n",
       "       'Ethnicity', 'Weight', 'Height'],\n",
       "      dtype='object')"
      ]
     },
     "execution_count": 9,
     "metadata": {},
     "output_type": "execute_result"
    }
   ],
   "source": [
    "df.columns"
   ]
  },
  {
   "cell_type": "markdown",
   "id": "30f2c53b",
   "metadata": {},
   "source": [
    "##### Checking for the inconsistencies in Age column"
   ]
  },
  {
   "cell_type": "code",
   "execution_count": 7,
   "id": "809106e8",
   "metadata": {},
   "outputs": [
    {
     "data": {
      "text/plain": [
       "Age\n",
       "34    175\n",
       "43    163\n",
       "36    159\n",
       "71    159\n",
       "38    157\n",
       "     ... \n",
       "31    122\n",
       "67    120\n",
       "24    117\n",
       "51    116\n",
       "22    113\n",
       "Name: count, Length: 72, dtype: int64"
      ]
     },
     "execution_count": 7,
     "metadata": {},
     "output_type": "execute_result"
    }
   ],
   "source": [
    "df['Age'].value_counts()"
   ]
  },
  {
   "cell_type": "code",
   "execution_count": 17,
   "id": "39733c0d",
   "metadata": {},
   "outputs": [
    {
     "data": {
      "text/plain": [
       "array([69, 32, 89, 78, 38, 41, 20, 39, 70, 19, 47, 55, 81, 77, 50, 75, 66,\n",
       "       76, 59, 79, 64, 68, 72, 24, 56, 35, 21, 31, 26, 88, 61, 25, 52, 53,\n",
       "       67, 23, 71, 80, 51, 65, 57, 43, 58, 46, 62, 82, 18, 28, 22, 45, 29,\n",
       "       40, 54, 44, 60, 30, 49, 83, 74, 87, 73, 36, 85, 34, 86, 33, 37, 84,\n",
       "       48, 42, 63, 27])"
      ]
     },
     "execution_count": 17,
     "metadata": {},
     "output_type": "execute_result"
    }
   ],
   "source": [
    "df['Age'].unique()"
   ]
  },
  {
   "cell_type": "code",
   "execution_count": 14,
   "id": "8fcbcf38",
   "metadata": {},
   "outputs": [
    {
     "data": {
      "text/plain": [
       "dtype('int64')"
      ]
     },
     "execution_count": 14,
     "metadata": {},
     "output_type": "execute_result"
    }
   ],
   "source": [
    "df['Age'].dtype"
   ]
  },
  {
   "cell_type": "code",
   "execution_count": 19,
   "id": "224a9767",
   "metadata": {},
   "outputs": [
    {
     "data": {
      "text/plain": [
       "np.int64(0)"
      ]
     },
     "execution_count": 19,
     "metadata": {},
     "output_type": "execute_result"
    }
   ],
   "source": [
    "df['Age'].isna().sum()"
   ]
  },
  {
   "cell_type": "markdown",
   "id": "cb4ca1ab",
   "metadata": {},
   "source": [
    "##### Cleaning the Gender column"
   ]
  },
  {
   "cell_type": "code",
   "execution_count": 20,
   "id": "96fb8f48",
   "metadata": {},
   "outputs": [
    {
     "data": {
      "text/plain": [
       "Gender\n",
       "Female    4985\n",
       "Male      4827\n",
       "Other      188\n",
       "Name: count, dtype: int64"
      ]
     },
     "execution_count": 20,
     "metadata": {},
     "output_type": "execute_result"
    }
   ],
   "source": [
    "df['Gender'].value_counts()"
   ]
  },
  {
   "cell_type": "code",
   "execution_count": 21,
   "id": "a2775032",
   "metadata": {},
   "outputs": [
    {
     "data": {
      "text/plain": [
       "array(['Female', 'Male', 'Other'], dtype=object)"
      ]
     },
     "execution_count": 21,
     "metadata": {},
     "output_type": "execute_result"
    }
   ],
   "source": [
    "df['Gender'].unique()"
   ]
  },
  {
   "cell_type": "code",
   "execution_count": 22,
   "id": "f93ae01a",
   "metadata": {},
   "outputs": [
    {
     "data": {
      "text/plain": [
       "dtype('O')"
      ]
     },
     "execution_count": 22,
     "metadata": {},
     "output_type": "execute_result"
    }
   ],
   "source": [
    "df['Gender'].dtype"
   ]
  },
  {
   "cell_type": "code",
   "execution_count": 23,
   "id": "ac7d03dc",
   "metadata": {},
   "outputs": [
    {
     "data": {
      "text/plain": [
       "np.int64(0)"
      ]
     },
     "execution_count": 23,
     "metadata": {},
     "output_type": "execute_result"
    }
   ],
   "source": [
    "df['Gender'].isna().sum()"
   ]
  },
  {
   "cell_type": "markdown",
   "id": "37d0fa4e",
   "metadata": {},
   "source": [
    "##### Checking for the inconsistencies in the Nationality column"
   ]
  },
  {
   "cell_type": "code",
   "execution_count": 26,
   "id": "d0493b68",
   "metadata": {},
   "outputs": [
    {
     "data": {
      "text/plain": [
       "Nationality\n",
       "Emirati       5920\n",
       "Expatriate    4080\n",
       "Name: count, dtype: int64"
      ]
     },
     "execution_count": 26,
     "metadata": {},
     "output_type": "execute_result"
    }
   ],
   "source": [
    "df['Nationality'].value_counts()"
   ]
  },
  {
   "cell_type": "code",
   "execution_count": 27,
   "id": "46d3327d",
   "metadata": {},
   "outputs": [
    {
     "data": {
      "text/plain": [
       "array(['Emirati', 'Expatriate'], dtype=object)"
      ]
     },
     "execution_count": 27,
     "metadata": {},
     "output_type": "execute_result"
    }
   ],
   "source": [
    "df['Nationality'].unique()"
   ]
  },
  {
   "cell_type": "code",
   "execution_count": 28,
   "id": "5a96224c",
   "metadata": {},
   "outputs": [
    {
     "data": {
      "text/plain": [
       "dtype('O')"
      ]
     },
     "execution_count": 28,
     "metadata": {},
     "output_type": "execute_result"
    }
   ],
   "source": [
    "df['Nationality'].dtype"
   ]
  },
  {
   "cell_type": "code",
   "execution_count": 29,
   "id": "447eb835",
   "metadata": {},
   "outputs": [
    {
     "data": {
      "text/plain": [
       "np.int64(0)"
      ]
     },
     "execution_count": 29,
     "metadata": {},
     "output_type": "execute_result"
    }
   ],
   "source": [
    "df['Nationality'].isna().sum()"
   ]
  },
  {
   "cell_type": "markdown",
   "id": "3330d09f",
   "metadata": {},
   "source": [
    "##### Exploring the Emirate column"
   ]
  },
  {
   "cell_type": "code",
   "execution_count": 31,
   "id": "d0847bea",
   "metadata": {},
   "outputs": [
    {
     "data": {
      "text/plain": [
       "Emirate\n",
       "Ajman             1497\n",
       "Fujairah          1471\n",
       "Abu Dhabi         1471\n",
       "Umm Al Quwain     1432\n",
       "Dubai             1407\n",
       "Sharjah           1382\n",
       "Ras Al Khaimah    1340\n",
       "Name: count, dtype: int64"
      ]
     },
     "execution_count": 31,
     "metadata": {},
     "output_type": "execute_result"
    }
   ],
   "source": [
    "df['Emirate'].value_counts()"
   ]
  },
  {
   "cell_type": "code",
   "execution_count": 32,
   "id": "a7500fbe",
   "metadata": {},
   "outputs": [
    {
     "data": {
      "text/plain": [
       "array(['Umm Al Quwain', 'Abu Dhabi', 'Fujairah', 'Ras Al Khaimah',\n",
       "       'Sharjah', 'Dubai', 'Ajman'], dtype=object)"
      ]
     },
     "execution_count": 32,
     "metadata": {},
     "output_type": "execute_result"
    }
   ],
   "source": [
    "df['Emirate'].unique()"
   ]
  },
  {
   "cell_type": "code",
   "execution_count": 33,
   "id": "145cfc44",
   "metadata": {},
   "outputs": [
    {
     "data": {
      "text/plain": [
       "dtype('O')"
      ]
     },
     "execution_count": 33,
     "metadata": {},
     "output_type": "execute_result"
    }
   ],
   "source": [
    "df['Emirate'].dtype"
   ]
  },
  {
   "cell_type": "code",
   "execution_count": 34,
   "id": "f1060bac",
   "metadata": {},
   "outputs": [
    {
     "data": {
      "text/plain": [
       "np.int64(0)"
      ]
     },
     "execution_count": 34,
     "metadata": {},
     "output_type": "execute_result"
    }
   ],
   "source": [
    "df['Emirate'].isna().sum()"
   ]
  },
  {
   "cell_type": "markdown",
   "id": "216e0840",
   "metadata": {},
   "source": [
    "##### Diagnosis_Date column"
   ]
  },
  {
   "cell_type": "code",
   "execution_count": 35,
   "id": "f9cae19d",
   "metadata": {},
   "outputs": [
    {
     "data": {
      "text/plain": [
       "Diagnosis_Date\n",
       "2023-12-13    12\n",
       "2022-01-16    10\n",
       "2020-10-29    10\n",
       "2023-07-14    10\n",
       "2017-08-11    10\n",
       "              ..\n",
       "2019-09-23     1\n",
       "2019-01-12     1\n",
       "2022-07-13     1\n",
       "2020-07-09     1\n",
       "2019-01-24     1\n",
       "Name: count, Length: 3151, dtype: int64"
      ]
     },
     "execution_count": 35,
     "metadata": {},
     "output_type": "execute_result"
    }
   ],
   "source": [
    "df['Diagnosis_Date'].value_counts()"
   ]
  },
  {
   "cell_type": "code",
   "execution_count": 36,
   "id": "e030d406",
   "metadata": {},
   "outputs": [
    {
     "data": {
      "text/plain": [
       "array(['2020-11-30', '2015-10-10', '2018-02-13', ..., '2019-06-21',\n",
       "       '2022-09-18', '2016-06-11'], shape=(3151,), dtype=object)"
      ]
     },
     "execution_count": 36,
     "metadata": {},
     "output_type": "execute_result"
    }
   ],
   "source": [
    "df['Diagnosis_Date'].unique()"
   ]
  },
  {
   "cell_type": "code",
   "execution_count": 37,
   "id": "e11e2f85",
   "metadata": {},
   "outputs": [
    {
     "data": {
      "text/plain": [
       "dtype('O')"
      ]
     },
     "execution_count": 37,
     "metadata": {},
     "output_type": "execute_result"
    }
   ],
   "source": [
    "df['Diagnosis_Date'].dtype"
   ]
  },
  {
   "cell_type": "code",
   "execution_count": 38,
   "id": "4032ef06",
   "metadata": {},
   "outputs": [
    {
     "data": {
      "text/plain": [
       "np.int64(0)"
      ]
     },
     "execution_count": 38,
     "metadata": {},
     "output_type": "execute_result"
    }
   ],
   "source": [
    "df['Diagnosis_Date'].isna().sum()"
   ]
  },
  {
   "cell_type": "markdown",
   "id": "17bd99c4",
   "metadata": {},
   "source": [
    "##### Cancer_Type column"
   ]
  },
  {
   "cell_type": "code",
   "execution_count": 39,
   "id": "3b0fefe8",
   "metadata": {},
   "outputs": [
    {
     "data": {
      "text/plain": [
       "Cancer_Type\n",
       "Leukemia      1314\n",
       "Liver         1263\n",
       "Ovarian       1259\n",
       "Pancreatic    1243\n",
       "Breast        1241\n",
       "Lung          1233\n",
       "Colorectal    1226\n",
       "Prostate      1221\n",
       "Name: count, dtype: int64"
      ]
     },
     "execution_count": 39,
     "metadata": {},
     "output_type": "execute_result"
    }
   ],
   "source": [
    "df['Cancer_Type'].value_counts()"
   ]
  },
  {
   "cell_type": "code",
   "execution_count": 40,
   "id": "f91ed05a",
   "metadata": {},
   "outputs": [
    {
     "data": {
      "text/plain": [
       "array(['Liver', 'Leukemia', 'Lung', 'Pancreatic', 'Breast', 'Ovarian',\n",
       "       'Prostate', 'Colorectal'], dtype=object)"
      ]
     },
     "execution_count": 40,
     "metadata": {},
     "output_type": "execute_result"
    }
   ],
   "source": [
    "df['Cancer_Type'].unique()"
   ]
  },
  {
   "cell_type": "code",
   "execution_count": 41,
   "id": "3c4b0780",
   "metadata": {},
   "outputs": [
    {
     "data": {
      "text/plain": [
       "dtype('O')"
      ]
     },
     "execution_count": 41,
     "metadata": {},
     "output_type": "execute_result"
    }
   ],
   "source": [
    "df['Cancer_Type'].dtype"
   ]
  },
  {
   "cell_type": "code",
   "execution_count": 42,
   "id": "1ae017ce",
   "metadata": {},
   "outputs": [
    {
     "data": {
      "text/plain": [
       "np.int64(0)"
      ]
     },
     "execution_count": 42,
     "metadata": {},
     "output_type": "execute_result"
    }
   ],
   "source": [
    "df['Cancer_Type'].isna().sum()"
   ]
  },
  {
   "cell_type": "markdown",
   "id": "c211db07",
   "metadata": {},
   "source": [
    "##### Treatment_Type column"
   ]
  },
  {
   "cell_type": "code",
   "execution_count": 44,
   "id": "465b86dd",
   "metadata": {},
   "outputs": [
    {
     "data": {
      "text/plain": [
       "array(['Radiation', 'Surgery', 'Chemotherapy', 'Immunotherapy'],\n",
       "      dtype=object)"
      ]
     },
     "execution_count": 44,
     "metadata": {},
     "output_type": "execute_result"
    }
   ],
   "source": [
    "df['Treatment_Type'].unique()"
   ]
  },
  {
   "cell_type": "code",
   "execution_count": 45,
   "id": "9bd5a510",
   "metadata": {},
   "outputs": [
    {
     "data": {
      "text/plain": [
       "Treatment_Type\n",
       "Radiation        2519\n",
       "Surgery          2498\n",
       "Immunotherapy    2497\n",
       "Chemotherapy     2486\n",
       "Name: count, dtype: int64"
      ]
     },
     "execution_count": 45,
     "metadata": {},
     "output_type": "execute_result"
    }
   ],
   "source": [
    "df['Treatment_Type'].value_counts()"
   ]
  },
  {
   "cell_type": "code",
   "execution_count": 46,
   "id": "c595dfed",
   "metadata": {},
   "outputs": [
    {
     "data": {
      "text/plain": [
       "dtype('O')"
      ]
     },
     "execution_count": 46,
     "metadata": {},
     "output_type": "execute_result"
    }
   ],
   "source": [
    "df['Treatment_Type'].dtype"
   ]
  },
  {
   "cell_type": "code",
   "execution_count": 47,
   "id": "821ce44f",
   "metadata": {},
   "outputs": [
    {
     "data": {
      "text/plain": [
       "np.int64(0)"
      ]
     },
     "execution_count": 47,
     "metadata": {},
     "output_type": "execute_result"
    }
   ],
   "source": [
    "df['Treatment_Type'].isna().sum()"
   ]
  },
  {
   "cell_type": "markdown",
   "id": "26cdc10c",
   "metadata": {},
   "source": [
    "##### Treatment_Start_Day column"
   ]
  },
  {
   "cell_type": "code",
   "execution_count": 48,
   "id": "b16c9137",
   "metadata": {},
   "outputs": [
    {
     "data": {
      "text/plain": [
       "array(['2020-12-04', '2015-11-05', '2018-08-03', ..., '2024-06-02',\n",
       "       '2016-09-16', '2017-12-23'], shape=(3250,), dtype=object)"
      ]
     },
     "execution_count": 48,
     "metadata": {},
     "output_type": "execute_result"
    }
   ],
   "source": [
    "df['Treatment_Start_Date'].unique()"
   ]
  },
  {
   "cell_type": "code",
   "execution_count": 49,
   "id": "1fac9cf3",
   "metadata": {},
   "outputs": [
    {
     "data": {
      "text/plain": [
       "Treatment_Start_Date\n",
       "2022-05-17    12\n",
       "2020-09-30    10\n",
       "2020-03-23    10\n",
       "2022-11-24    10\n",
       "2016-10-13     9\n",
       "              ..\n",
       "2022-04-12     1\n",
       "2015-05-18     1\n",
       "2023-03-08     1\n",
       "2015-02-08     1\n",
       "2019-12-09     1\n",
       "Name: count, Length: 3250, dtype: int64"
      ]
     },
     "execution_count": 49,
     "metadata": {},
     "output_type": "execute_result"
    }
   ],
   "source": [
    "df['Treatment_Start_Date'].value_counts()"
   ]
  },
  {
   "cell_type": "code",
   "execution_count": 50,
   "id": "bccdac73",
   "metadata": {},
   "outputs": [
    {
     "data": {
      "text/plain": [
       "dtype('O')"
      ]
     },
     "execution_count": 50,
     "metadata": {},
     "output_type": "execute_result"
    }
   ],
   "source": [
    "df['Treatment_Start_Date'].dtypes"
   ]
  },
  {
   "cell_type": "code",
   "execution_count": 51,
   "id": "483434bb",
   "metadata": {},
   "outputs": [
    {
     "data": {
      "text/plain": [
       "np.int64(0)"
      ]
     },
     "execution_count": 51,
     "metadata": {},
     "output_type": "execute_result"
    }
   ],
   "source": [
    "df['Treatment_Start_Date'].isna().sum()"
   ]
  },
  {
   "cell_type": "markdown",
   "id": "05dc2ea9",
   "metadata": {},
   "source": [
    "##### Hospital column"
   ]
  },
  {
   "cell_type": "code",
   "execution_count": 53,
   "id": "5b7d17e1",
   "metadata": {},
   "outputs": [
    {
     "data": {
      "text/plain": [
       "array(['Sheikh Khalifa Hospital', 'Dubai Hospital',\n",
       "       'Zayed Military Hospital', 'Cleveland Clinic Abu Dhabi'],\n",
       "      dtype=object)"
      ]
     },
     "execution_count": 53,
     "metadata": {},
     "output_type": "execute_result"
    }
   ],
   "source": [
    "df['Hospital'].unique()"
   ]
  },
  {
   "cell_type": "code",
   "execution_count": 54,
   "id": "51fdf06d",
   "metadata": {},
   "outputs": [
    {
     "data": {
      "text/plain": [
       "Hospital\n",
       "Sheikh Khalifa Hospital       2541\n",
       "Cleveland Clinic Abu Dhabi    2535\n",
       "Dubai Hospital                2467\n",
       "Zayed Military Hospital       2457\n",
       "Name: count, dtype: int64"
      ]
     },
     "execution_count": 54,
     "metadata": {},
     "output_type": "execute_result"
    }
   ],
   "source": [
    "df['Hospital'].value_counts()"
   ]
  },
  {
   "cell_type": "code",
   "execution_count": 55,
   "id": "2dc6b6af",
   "metadata": {},
   "outputs": [
    {
     "data": {
      "text/plain": [
       "dtype('O')"
      ]
     },
     "execution_count": 55,
     "metadata": {},
     "output_type": "execute_result"
    }
   ],
   "source": [
    "df['Hospital'].dtype"
   ]
  },
  {
   "cell_type": "code",
   "execution_count": 56,
   "id": "4d6d42a0",
   "metadata": {},
   "outputs": [
    {
     "data": {
      "text/plain": [
       "np.int64(0)"
      ]
     },
     "execution_count": 56,
     "metadata": {},
     "output_type": "execute_result"
    }
   ],
   "source": [
    "df['Hospital'].isna().sum()"
   ]
  },
  {
   "cell_type": "markdown",
   "id": "eae39b0f",
   "metadata": {},
   "source": [
    "##### Primary_Pysician column"
   ]
  },
  {
   "cell_type": "code",
   "execution_count": 57,
   "id": "6144510a",
   "metadata": {},
   "outputs": [
    {
     "data": {
      "text/plain": [
       "array(['Dr. VO41', 'Dr. SM31', 'Dr. BC7', ..., 'Dr. WT6', 'Dr. JB17',\n",
       "       'Dr. SI45'], shape=(8614,), dtype=object)"
      ]
     },
     "execution_count": 57,
     "metadata": {},
     "output_type": "execute_result"
    }
   ],
   "source": [
    "df['Primary_Physician'].unique()"
   ]
  },
  {
   "cell_type": "code",
   "execution_count": 58,
   "id": "2f24232e",
   "metadata": {},
   "outputs": [
    {
     "data": {
      "text/plain": [
       "Primary_Physician\n",
       "Dr. AJ25    5\n",
       "Dr. ZA47    5\n",
       "Dr. ZI28    4\n",
       "Dr. AX14    4\n",
       "Dr. BG6     4\n",
       "           ..\n",
       "Dr. IL20    1\n",
       "Dr. KH33    1\n",
       "Dr. GX45    1\n",
       "Dr. UI2     1\n",
       "Dr. MP30    1\n",
       "Name: count, Length: 8614, dtype: int64"
      ]
     },
     "execution_count": 58,
     "metadata": {},
     "output_type": "execute_result"
    }
   ],
   "source": [
    "df['Primary_Physician'].value_counts()"
   ]
  },
  {
   "cell_type": "code",
   "execution_count": 59,
   "id": "6ce78477",
   "metadata": {},
   "outputs": [
    {
     "data": {
      "text/plain": [
       "dtype('O')"
      ]
     },
     "execution_count": 59,
     "metadata": {},
     "output_type": "execute_result"
    }
   ],
   "source": [
    "df['Primary_Physician'].dtype"
   ]
  },
  {
   "cell_type": "code",
   "execution_count": 60,
   "id": "b3b569a0",
   "metadata": {},
   "outputs": [
    {
     "data": {
      "text/plain": [
       "np.int64(0)"
      ]
     },
     "execution_count": 60,
     "metadata": {},
     "output_type": "execute_result"
    }
   ],
   "source": [
    "df['Primary_Physician'].isna().sum()"
   ]
  },
  {
   "cell_type": "markdown",
   "id": "272f5d68",
   "metadata": {},
   "source": [
    "##### Outcome column"
   ]
  },
  {
   "cell_type": "code",
   "execution_count": 62,
   "id": "681e6355",
   "metadata": {},
   "outputs": [
    {
     "data": {
      "text/plain": [
       "array(['Recovered', 'Under Treatment', 'Deceased'], dtype=object)"
      ]
     },
     "execution_count": 62,
     "metadata": {},
     "output_type": "execute_result"
    }
   ],
   "source": [
    "df['Outcome'].unique()"
   ]
  },
  {
   "cell_type": "code",
   "execution_count": 64,
   "id": "7c77647b",
   "metadata": {},
   "outputs": [
    {
     "data": {
      "text/plain": [
       "Outcome\n",
       "Recovered          4931\n",
       "Under Treatment    4077\n",
       "Deceased            992\n",
       "Name: count, dtype: int64"
      ]
     },
     "execution_count": 64,
     "metadata": {},
     "output_type": "execute_result"
    }
   ],
   "source": [
    "df['Outcome'].value_counts()"
   ]
  },
  {
   "cell_type": "code",
   "execution_count": 65,
   "id": "d1456825",
   "metadata": {},
   "outputs": [
    {
     "data": {
      "text/plain": [
       "np.int64(0)"
      ]
     },
     "execution_count": 65,
     "metadata": {},
     "output_type": "execute_result"
    }
   ],
   "source": [
    "df['Outcome'].isna().sum()"
   ]
  },
  {
   "cell_type": "code",
   "execution_count": 66,
   "id": "500b64a4",
   "metadata": {},
   "outputs": [
    {
     "data": {
      "text/plain": [
       "dtype('O')"
      ]
     },
     "execution_count": 66,
     "metadata": {},
     "output_type": "execute_result"
    }
   ],
   "source": [
    "df['Outcome'].dtype"
   ]
  },
  {
   "cell_type": "markdown",
   "id": "715eada9",
   "metadata": {},
   "source": [
    "##### Death_Date Column"
   ]
  },
  {
   "cell_type": "code",
   "execution_count": 68,
   "id": "80b19bea",
   "metadata": {},
   "outputs": [
    {
     "data": {
      "text/plain": [
       "array([nan, '2024-12-22 00:00:00', '2022-08-01 00:00:00',\n",
       "       '2020-03-31 00:00:00', '2023-05-18 00:00:00',\n",
       "       '2022-07-29 00:00:00', '2019-03-12 00:00:00',\n",
       "       '2018-04-15 00:00:00', '2020-09-18 00:00:00',\n",
       "       '2020-06-16 00:00:00', '2023-01-11 00:00:00',\n",
       "       '2024-11-20 00:00:00', '2018-05-09 00:00:00',\n",
       "       '2023-08-11 00:00:00', '2020-07-10 00:00:00',\n",
       "       '2020-07-29 00:00:00', '2018-05-29 00:00:00',\n",
       "       '2018-09-09 00:00:00', '2022-04-24 00:00:00',\n",
       "       '2017-09-27 00:00:00', '2020-07-19 00:00:00',\n",
       "       '2018-03-03 00:00:00', '2016-09-24 00:00:00',\n",
       "       '2021-01-28 00:00:00', '2021-11-15 00:00:00',\n",
       "       '2018-01-27 00:00:00', '2021-05-23 00:00:00',\n",
       "       '2017-01-28 00:00:00', '2024-12-11 00:00:00',\n",
       "       '2022-04-13 00:00:00', '2022-11-19 00:00:00',\n",
       "       '2017-08-13 00:00:00', '2023-09-25 00:00:00',\n",
       "       '2019-11-16 00:00:00', '2016-05-25 00:00:00',\n",
       "       '2022-09-13 00:00:00', '2021-08-06 00:00:00',\n",
       "       '2017-12-03 00:00:00', '2020-05-06 00:00:00',\n",
       "       '2017-11-03 00:00:00', '2019-12-07 00:00:00',\n",
       "       '2018-01-06 00:00:00', '2023-03-21 00:00:00',\n",
       "       '2024-11-12 00:00:00', '2025-02-23 00:00:00',\n",
       "       '2022-08-16 00:00:00', '2023-09-03 00:00:00',\n",
       "       '2025-09-14 00:00:00', '2023-07-05 00:00:00',\n",
       "       '2024-03-31 00:00:00', '2017-12-11 00:00:00',\n",
       "       '2025-03-20 00:00:00', '2023-12-24 00:00:00',\n",
       "       '2021-07-05 00:00:00', '2017-05-15 00:00:00',\n",
       "       '2023-10-18 00:00:00', '2020-07-23 00:00:00',\n",
       "       '2016-05-31 00:00:00', '2017-11-18 00:00:00',\n",
       "       '2018-01-29 00:00:00', '2017-05-31 00:00:00',\n",
       "       '2021-03-22 00:00:00', '2018-09-11 00:00:00',\n",
       "       '2016-04-17 00:00:00', '2024-10-30 00:00:00',\n",
       "       '2017-12-12 00:00:00', '2016-06-07 00:00:00',\n",
       "       '2023-03-26 00:00:00', '2023-04-26 00:00:00',\n",
       "       '2022-10-28 00:00:00', '2023-07-16 00:00:00',\n",
       "       '2022-11-21 00:00:00', '2018-02-12 00:00:00',\n",
       "       '2024-10-25 00:00:00', '2023-09-26 00:00:00',\n",
       "       '2025-04-09 00:00:00', '2017-09-14 00:00:00',\n",
       "       '2018-12-12 00:00:00', '2019-06-06 00:00:00',\n",
       "       '2017-05-02 00:00:00', '2019-07-27 00:00:00',\n",
       "       '2023-08-23 00:00:00', '2022-11-05 00:00:00',\n",
       "       '2023-09-08 00:00:00', '2019-10-31 00:00:00',\n",
       "       '2022-06-28 00:00:00', '2021-07-23 00:00:00',\n",
       "       '2023-08-13 00:00:00', '2025-11-29 00:00:00',\n",
       "       '2022-06-26 00:00:00', '2020-08-04 00:00:00',\n",
       "       '2020-10-01 00:00:00', '2021-11-25 00:00:00',\n",
       "       '2024-06-09 00:00:00', '2022-04-09 00:00:00',\n",
       "       '2021-01-07 00:00:00', '2023-09-13 00:00:00',\n",
       "       '2018-10-22 00:00:00', '2021-06-26 00:00:00',\n",
       "       '2024-07-19 00:00:00', '2021-01-11 00:00:00',\n",
       "       '2020-03-02 00:00:00', '2019-12-24 00:00:00',\n",
       "       '2024-02-28 00:00:00', '2016-07-21 00:00:00',\n",
       "       '2017-05-16 00:00:00', '2018-05-18 00:00:00',\n",
       "       '2022-01-12 00:00:00', '2017-11-13 00:00:00',\n",
       "       '2019-08-03 00:00:00', '2022-04-22 00:00:00',\n",
       "       '2021-11-11 00:00:00', '2016-07-24 00:00:00',\n",
       "       '2025-04-28 00:00:00', '2023-11-17 00:00:00',\n",
       "       '2022-09-29 00:00:00', '2019-05-26 00:00:00',\n",
       "       '2015-04-24 00:00:00', '2022-06-19 00:00:00',\n",
       "       '2018-08-27 00:00:00', '2026-01-07 00:00:00',\n",
       "       '2026-01-19 00:00:00', '2021-12-16 00:00:00',\n",
       "       '2020-06-13 00:00:00', '2021-04-08 00:00:00',\n",
       "       '2017-08-31 00:00:00', '2022-06-27 00:00:00',\n",
       "       '2019-09-03 00:00:00', '2024-01-08 00:00:00',\n",
       "       '2024-03-18 00:00:00', '2022-04-18 00:00:00',\n",
       "       '2025-09-27 00:00:00', '2017-01-18 00:00:00',\n",
       "       '2018-12-19 00:00:00', '2016-01-06 00:00:00',\n",
       "       '2024-02-23 00:00:00', '2025-02-08 00:00:00',\n",
       "       '2017-06-26 00:00:00', '2018-09-18 00:00:00',\n",
       "       '2018-07-31 00:00:00', '2020-03-24 00:00:00',\n",
       "       '2024-06-25 00:00:00', '2022-04-03 00:00:00',\n",
       "       '2022-12-11 00:00:00', '2019-07-26 00:00:00',\n",
       "       '2018-08-29 00:00:00', '2023-07-19 00:00:00',\n",
       "       '2018-07-07 00:00:00', '2018-07-14 00:00:00',\n",
       "       '2018-11-16 00:00:00', '2022-06-16 00:00:00',\n",
       "       '2015-11-05 00:00:00', '2022-01-28 00:00:00',\n",
       "       '2025-02-15 00:00:00', '2025-07-11 00:00:00',\n",
       "       '2021-06-17 00:00:00', '2024-02-26 00:00:00',\n",
       "       '2023-01-30 00:00:00', '2023-11-04 00:00:00',\n",
       "       '2022-05-03 00:00:00', '2019-09-27 00:00:00',\n",
       "       '2017-07-31 00:00:00', '2020-05-24 00:00:00',\n",
       "       '2023-09-27 00:00:00', '2017-08-03 00:00:00',\n",
       "       '2022-08-23 00:00:00', '2017-02-01 00:00:00',\n",
       "       '2018-12-13 00:00:00', '2018-06-27 00:00:00',\n",
       "       '2020-01-29 00:00:00', '2025-01-04 00:00:00',\n",
       "       '2020-04-27 00:00:00', '2020-11-26 00:00:00',\n",
       "       '2016-11-30 00:00:00', '2020-01-03 00:00:00',\n",
       "       '2019-06-11 00:00:00', '2019-01-01 00:00:00',\n",
       "       '2021-09-06 00:00:00', '2021-05-03 00:00:00',\n",
       "       '2017-07-17 00:00:00', '2016-11-04 00:00:00',\n",
       "       '2022-09-14 00:00:00', '2018-07-15 00:00:00',\n",
       "       '2018-03-24 00:00:00', '2023-06-27 00:00:00',\n",
       "       '2019-12-05 00:00:00', '2024-02-08 00:00:00',\n",
       "       '2024-01-14 00:00:00', '2019-05-22 00:00:00',\n",
       "       '2019-07-10 00:00:00', '2024-02-11 00:00:00',\n",
       "       '2021-10-19 00:00:00', '2021-08-15 00:00:00',\n",
       "       '2026-02-05 00:00:00', '2020-12-07 00:00:00',\n",
       "       '2019-08-14 00:00:00', '2022-04-30 00:00:00',\n",
       "       '2023-05-03 00:00:00', '2023-08-16 00:00:00',\n",
       "       '2023-07-27 00:00:00', '2019-08-20 00:00:00',\n",
       "       '2024-06-15 00:00:00', '2025-07-28 00:00:00',\n",
       "       '2019-01-12 00:00:00', '2016-07-31 00:00:00',\n",
       "       '2019-09-20 00:00:00', '2017-07-25 00:00:00',\n",
       "       '2021-01-29 00:00:00', '2022-05-12 00:00:00',\n",
       "       '2021-08-02 00:00:00', '2017-11-11 00:00:00',\n",
       "       '2020-05-02 00:00:00', '2019-07-31 00:00:00',\n",
       "       '2015-10-03 00:00:00', '2020-11-27 00:00:00',\n",
       "       '2024-03-08 00:00:00', '2026-02-07 00:00:00',\n",
       "       '2025-01-06 00:00:00', '2023-03-04 00:00:00',\n",
       "       '2023-05-14 00:00:00', '2019-02-17 00:00:00',\n",
       "       '2016-08-05 00:00:00', '2025-03-21 00:00:00',\n",
       "       '2016-10-30 00:00:00', '2018-10-25 00:00:00',\n",
       "       '2015-07-11 00:00:00', '2020-08-27 00:00:00',\n",
       "       '2018-10-24 00:00:00', '2018-08-01 00:00:00',\n",
       "       '2016-12-22 00:00:00', '2021-08-12 00:00:00',\n",
       "       '2018-08-07 00:00:00', '2025-04-11 00:00:00',\n",
       "       '2024-02-27 00:00:00', '2022-07-05 00:00:00',\n",
       "       '2017-10-21 00:00:00', '2021-05-10 00:00:00',\n",
       "       '2023-12-01 00:00:00', '2017-03-15 00:00:00',\n",
       "       '2018-08-03 00:00:00', '2023-02-24 00:00:00',\n",
       "       '2016-03-07 00:00:00', '2019-02-01 00:00:00',\n",
       "       '2019-08-28 00:00:00', '2024-08-17 00:00:00',\n",
       "       '2024-08-19 00:00:00', '2025-08-11 00:00:00',\n",
       "       '2019-03-20 00:00:00', '2019-12-28 00:00:00',\n",
       "       '2023-09-06 00:00:00', '2018-03-25 00:00:00',\n",
       "       '2019-03-22 00:00:00', '2020-11-16 00:00:00',\n",
       "       '2019-06-08 00:00:00', '2019-02-13 00:00:00',\n",
       "       '2017-06-16 00:00:00', '2021-06-28 00:00:00',\n",
       "       '2016-02-09 00:00:00', '2019-02-08 00:00:00',\n",
       "       '2018-12-17 00:00:00', '2023-06-30 00:00:00',\n",
       "       '2023-07-01 00:00:00', '2024-09-22 00:00:00',\n",
       "       '2019-02-12 00:00:00', '2022-12-24 00:00:00',\n",
       "       '2022-02-04 00:00:00', '2019-04-19 00:00:00',\n",
       "       '2017-09-26 00:00:00', '2025-02-06 00:00:00',\n",
       "       '2026-01-16 00:00:00', '2022-02-13 00:00:00',\n",
       "       '2024-04-07 00:00:00', '2019-09-21 00:00:00',\n",
       "       '2018-02-19 00:00:00', '2020-06-08 00:00:00',\n",
       "       '2016-04-12 00:00:00', '2024-11-29 00:00:00',\n",
       "       '2018-09-16 00:00:00', '2025-05-21 00:00:00',\n",
       "       '2025-03-28 00:00:00', '2018-03-08 00:00:00',\n",
       "       '2023-11-25 00:00:00', '2021-04-21 00:00:00',\n",
       "       '2021-10-28 00:00:00', '2023-06-10 00:00:00',\n",
       "       '2017-04-12 00:00:00', '2022-05-13 00:00:00',\n",
       "       '2024-01-13 00:00:00', '2021-10-08 00:00:00',\n",
       "       '2024-03-30 00:00:00', '2024-12-18 00:00:00',\n",
       "       '2023-09-21 00:00:00', '2023-07-30 00:00:00',\n",
       "       '2020-02-28 00:00:00', '2024-09-29 00:00:00',\n",
       "       '2019-12-17 00:00:00', '2022-06-20 00:00:00',\n",
       "       '2017-06-01 00:00:00', '2021-01-15 00:00:00',\n",
       "       '2025-06-17 00:00:00', '2016-06-16 00:00:00',\n",
       "       '2017-01-30 00:00:00', '2019-10-08 00:00:00',\n",
       "       '2021-07-04 00:00:00', '2023-03-27 00:00:00',\n",
       "       '2016-02-19 00:00:00', '2021-02-16 00:00:00',\n",
       "       '2024-09-09 00:00:00', '2015-12-04 00:00:00',\n",
       "       '2023-12-20 00:00:00', '2020-02-03 00:00:00',\n",
       "       '2018-03-13 00:00:00', '2018-02-04 00:00:00',\n",
       "       '2022-01-13 00:00:00', '2019-01-31 00:00:00',\n",
       "       '2021-01-09 00:00:00', '2024-07-20 00:00:00',\n",
       "       '2016-10-28 00:00:00', '2018-02-05 00:00:00',\n",
       "       '2018-07-27 00:00:00', '2019-09-04 00:00:00',\n",
       "       '2018-05-25 00:00:00', '2020-10-29 00:00:00',\n",
       "       '2025-12-16 00:00:00', '2017-03-10 00:00:00',\n",
       "       '2025-10-19 00:00:00', '2024-12-29 00:00:00',\n",
       "       '2022-10-02 00:00:00', '2018-11-29 00:00:00',\n",
       "       '2023-10-21 00:00:00', '2020-02-26 00:00:00',\n",
       "       '2024-05-21 00:00:00', '2022-02-12 00:00:00',\n",
       "       '2020-10-26 00:00:00', '2019-05-31 00:00:00',\n",
       "       '2023-07-26 00:00:00', '2025-04-21 00:00:00',\n",
       "       '2021-01-30 00:00:00', '2020-12-08 00:00:00',\n",
       "       '2022-05-07 00:00:00', '2017-10-22 00:00:00',\n",
       "       '2021-04-16 00:00:00', '2016-08-19 00:00:00',\n",
       "       '2018-07-09 00:00:00', '2026-05-15 00:00:00',\n",
       "       '2022-07-01 00:00:00', '2022-03-19 00:00:00',\n",
       "       '2020-04-07 00:00:00', '2019-05-09 00:00:00',\n",
       "       '2021-12-27 00:00:00', '2025-04-14 00:00:00',\n",
       "       '2019-06-16 00:00:00', '2019-11-09 00:00:00',\n",
       "       '2020-07-07 00:00:00', '2024-12-13 00:00:00',\n",
       "       '2019-11-17 00:00:00', '2022-07-13 00:00:00',\n",
       "       '2025-10-02 00:00:00', '2024-08-29 00:00:00',\n",
       "       '2020-01-15 00:00:00', '2021-02-20 00:00:00',\n",
       "       '2021-03-28 00:00:00', '2017-02-07 00:00:00',\n",
       "       '2022-10-20 00:00:00', '2021-12-31 00:00:00',\n",
       "       '2024-02-02 00:00:00', '2018-04-29 00:00:00',\n",
       "       '2024-12-06 00:00:00', '2015-12-26 00:00:00',\n",
       "       '2019-09-17 00:00:00', '2022-09-21 00:00:00',\n",
       "       '2025-05-03 00:00:00', '2020-11-18 00:00:00',\n",
       "       '2024-02-20 00:00:00', '2026-03-12 00:00:00',\n",
       "       '2017-11-21 00:00:00', '2025-09-20 00:00:00',\n",
       "       '2019-12-09 00:00:00', '2019-07-24 00:00:00',\n",
       "       '2022-01-22 00:00:00', '2022-07-24 00:00:00',\n",
       "       '2017-09-30 00:00:00', '2020-09-17 00:00:00',\n",
       "       '2018-09-08 00:00:00', '2024-10-04 00:00:00',\n",
       "       '2022-08-18 00:00:00', '2021-05-09 00:00:00',\n",
       "       '2017-04-26 00:00:00', '2018-10-18 00:00:00',\n",
       "       '2023-06-03 00:00:00', '2022-11-13 00:00:00',\n",
       "       '2024-04-26 00:00:00', '2021-01-10 00:00:00',\n",
       "       '2021-06-21 00:00:00', '2024-03-24 00:00:00',\n",
       "       '2017-10-01 00:00:00', '2019-10-23 00:00:00',\n",
       "       '2024-01-11 00:00:00', '2023-06-11 00:00:00',\n",
       "       '2025-11-01 00:00:00', '2020-03-26 00:00:00',\n",
       "       '2019-09-29 00:00:00', '2020-11-29 00:00:00',\n",
       "       '2019-05-10 00:00:00', '2019-03-26 00:00:00',\n",
       "       '2018-07-20 00:00:00', '2023-11-09 00:00:00',\n",
       "       '2023-01-07 00:00:00', '2017-04-27 00:00:00',\n",
       "       '2021-06-02 00:00:00', '2018-04-19 00:00:00',\n",
       "       '2019-07-18 00:00:00', '2020-07-25 00:00:00',\n",
       "       '2021-09-02 00:00:00', '2017-06-11 00:00:00',\n",
       "       '2024-09-30 00:00:00', '2016-03-11 00:00:00',\n",
       "       '2022-06-17 00:00:00', '2024-03-19 00:00:00',\n",
       "       '2020-12-18 00:00:00', '2020-11-19 00:00:00',\n",
       "       '2025-02-26 00:00:00', '2018-12-30 00:00:00',\n",
       "       '2018-01-15 00:00:00', '2021-03-06 00:00:00',\n",
       "       '2023-08-15 00:00:00', '2019-06-07 00:00:00',\n",
       "       '2023-08-08 00:00:00', '2017-12-14 00:00:00',\n",
       "       '2023-12-22 00:00:00', '2016-07-16 00:00:00',\n",
       "       '2018-05-23 00:00:00', '2020-10-05 00:00:00',\n",
       "       '2018-11-19 00:00:00', '2020-10-13 00:00:00',\n",
       "       '2019-07-21 00:00:00', '2020-06-12 00:00:00',\n",
       "       '2019-02-06 00:00:00', '2017-07-10 00:00:00',\n",
       "       '2024-12-02 00:00:00', '2023-04-03 00:00:00',\n",
       "       '2018-12-26 00:00:00', '2020-07-17 00:00:00',\n",
       "       '2018-10-04 00:00:00', '2024-03-16 00:00:00',\n",
       "       '2023-08-26 00:00:00', '2022-05-23 00:00:00',\n",
       "       '2020-04-04 00:00:00', '2017-10-30 00:00:00',\n",
       "       '2019-07-03 00:00:00', '2019-05-05 00:00:00',\n",
       "       '2017-05-18 00:00:00', '2019-06-09 00:00:00',\n",
       "       '2021-06-15 00:00:00', '2018-09-10 00:00:00',\n",
       "       '2024-11-06 00:00:00', '2019-07-15 00:00:00',\n",
       "       '2021-08-18 00:00:00', '2017-08-15 00:00:00',\n",
       "       '2017-12-31 00:00:00', '2020-12-26 00:00:00',\n",
       "       '2023-05-24 00:00:00', '2024-08-05 00:00:00',\n",
       "       '2016-07-29 00:00:00', '2025-02-01 00:00:00',\n",
       "       '2022-11-26 00:00:00', '2016-03-03 00:00:00',\n",
       "       '2024-06-06 00:00:00', '2024-04-08 00:00:00',\n",
       "       '2020-03-22 00:00:00', '2019-04-30 00:00:00',\n",
       "       '2022-06-06 00:00:00', '2017-06-13 00:00:00',\n",
       "       '2018-12-25 00:00:00', '2022-03-01 00:00:00',\n",
       "       '2024-03-03 00:00:00', '2019-06-22 00:00:00',\n",
       "       '2018-06-01 00:00:00', '2025-03-19 00:00:00',\n",
       "       '2019-06-29 00:00:00', '2018-07-05 00:00:00',\n",
       "       '2022-06-09 00:00:00', '2022-07-17 00:00:00',\n",
       "       '2022-04-26 00:00:00', '2019-11-23 00:00:00',\n",
       "       '2021-03-14 00:00:00', '2024-06-26 00:00:00',\n",
       "       '2020-06-05 00:00:00', '2025-05-14 00:00:00',\n",
       "       '2024-12-10 00:00:00', '2017-10-18 00:00:00',\n",
       "       '2024-04-15 00:00:00', '2018-12-11 00:00:00',\n",
       "       '2019-10-05 00:00:00', '2016-01-30 00:00:00',\n",
       "       '2021-04-18 00:00:00', '2018-09-22 00:00:00',\n",
       "       '2024-04-02 00:00:00', '2019-11-24 00:00:00',\n",
       "       '2020-02-02 00:00:00', '2022-08-21 00:00:00',\n",
       "       '2015-08-18 00:00:00', '2024-02-05 00:00:00',\n",
       "       '2024-12-24 00:00:00', '2023-08-01 00:00:00',\n",
       "       '2016-02-13 00:00:00', '2020-07-13 00:00:00',\n",
       "       '2016-02-28 00:00:00', '2016-06-24 00:00:00',\n",
       "       '2018-05-16 00:00:00', '2022-07-25 00:00:00',\n",
       "       '2019-08-17 00:00:00', '2022-11-30 00:00:00',\n",
       "       '2025-01-30 00:00:00', '2024-08-02 00:00:00',\n",
       "       '2016-05-17 00:00:00', '2020-05-12 00:00:00',\n",
       "       '2016-04-06 00:00:00', '2018-05-03 00:00:00',\n",
       "       '2021-06-27 00:00:00', '2023-08-07 00:00:00',\n",
       "       '2023-11-13 00:00:00', '2023-06-15 00:00:00',\n",
       "       '2016-04-09 00:00:00', '2017-03-22 00:00:00',\n",
       "       '2018-08-05 00:00:00', '2021-08-03 00:00:00',\n",
       "       '2017-02-02 00:00:00', '2018-07-18 00:00:00',\n",
       "       '2021-07-25 00:00:00', '2023-02-17 00:00:00',\n",
       "       '2019-01-24 00:00:00', '2023-09-14 00:00:00',\n",
       "       '2021-06-29 00:00:00', '2017-08-12 00:00:00',\n",
       "       '2021-04-22 00:00:00', '2023-12-08 00:00:00',\n",
       "       '2020-08-18 00:00:00', '2023-03-12 00:00:00',\n",
       "       '2024-06-23 00:00:00', '2025-02-11 00:00:00',\n",
       "       '2019-02-22 00:00:00', '2019-02-05 00:00:00',\n",
       "       '2019-08-06 00:00:00', '2020-02-16 00:00:00',\n",
       "       '2020-06-26 00:00:00', '2022-09-03 00:00:00',\n",
       "       '2024-06-20 00:00:00', '2019-05-30 00:00:00',\n",
       "       '2023-02-27 00:00:00', '2016-09-25 00:00:00',\n",
       "       '2020-01-28 00:00:00', '2019-08-07 00:00:00',\n",
       "       '2023-04-11 00:00:00', '2025-08-30 00:00:00',\n",
       "       '2020-08-05 00:00:00', '2019-12-10 00:00:00',\n",
       "       '2018-03-19 00:00:00', '2024-07-06 00:00:00',\n",
       "       '2018-12-04 00:00:00', '2018-01-28 00:00:00',\n",
       "       '2022-06-14 00:00:00', '2023-07-04 00:00:00',\n",
       "       '2021-10-07 00:00:00', '2018-05-01 00:00:00',\n",
       "       '2022-09-06 00:00:00', '2025-06-21 00:00:00',\n",
       "       '2025-02-14 00:00:00', '2021-07-08 00:00:00',\n",
       "       '2021-09-15 00:00:00', '2020-06-14 00:00:00',\n",
       "       '2020-08-13 00:00:00', '2016-09-29 00:00:00',\n",
       "       '2021-09-10 00:00:00', '2021-01-08 00:00:00',\n",
       "       '2022-03-14 00:00:00', '2020-05-11 00:00:00',\n",
       "       '2021-05-31 00:00:00', '2017-09-09 00:00:00',\n",
       "       '2021-08-26 00:00:00', '2023-06-08 00:00:00',\n",
       "       '2019-10-22 00:00:00', '2020-02-06 00:00:00',\n",
       "       '2018-02-18 00:00:00', '2022-02-22 00:00:00',\n",
       "       '2020-10-25 00:00:00', '2024-08-15 00:00:00',\n",
       "       '2021-08-22 00:00:00', '2018-06-14 00:00:00',\n",
       "       '2017-12-13 00:00:00', '2018-01-18 00:00:00',\n",
       "       '2020-09-21 00:00:00', '2024-08-27 00:00:00',\n",
       "       '2017-03-28 00:00:00', '2022-05-06 00:00:00',\n",
       "       '2021-05-13 00:00:00', '2024-04-27 00:00:00',\n",
       "       '2017-04-23 00:00:00', '2020-07-28 00:00:00',\n",
       "       '2019-11-21 00:00:00', '2017-12-15 00:00:00',\n",
       "       '2017-10-20 00:00:00', '2024-01-04 00:00:00',\n",
       "       '2025-07-19 00:00:00', '2019-09-12 00:00:00',\n",
       "       '2018-11-14 00:00:00', '2025-05-28 00:00:00',\n",
       "       '2019-01-27 00:00:00', '2023-07-10 00:00:00',\n",
       "       '2018-05-28 00:00:00', '2018-07-01 00:00:00',\n",
       "       '2022-05-22 00:00:00', '2023-08-06 00:00:00',\n",
       "       '2025-06-20 00:00:00', '2019-02-21 00:00:00',\n",
       "       '2017-05-11 00:00:00', '2025-04-30 00:00:00',\n",
       "       '2024-11-09 00:00:00', '2021-04-05 00:00:00',\n",
       "       '2023-03-23 00:00:00', '2023-10-14 00:00:00',\n",
       "       '2024-06-14 00:00:00', '2018-02-11 00:00:00',\n",
       "       '2021-01-31 00:00:00', '2021-04-20 00:00:00',\n",
       "       '2019-04-21 00:00:00', '2023-12-23 00:00:00',\n",
       "       '2015-11-21 00:00:00', '2025-04-06 00:00:00',\n",
       "       '2022-08-25 00:00:00', '2017-02-18 00:00:00',\n",
       "       '2023-03-16 00:00:00', '2016-04-07 00:00:00',\n",
       "       '2022-04-28 00:00:00', '2022-08-06 00:00:00',\n",
       "       '2020-07-06 00:00:00', '2016-11-21 00:00:00',\n",
       "       '2024-06-19 00:00:00', '2020-04-24 00:00:00',\n",
       "       '2023-05-26 00:00:00', '2022-09-25 00:00:00',\n",
       "       '2025-08-12 00:00:00', '2023-09-18 00:00:00',\n",
       "       '2025-01-14 00:00:00', '2024-06-11 00:00:00',\n",
       "       '2018-06-28 00:00:00', '2015-08-05 00:00:00',\n",
       "       '2017-12-04 00:00:00', '2019-04-25 00:00:00',\n",
       "       '2019-04-09 00:00:00', '2022-07-06 00:00:00',\n",
       "       '2021-02-08 00:00:00', '2016-03-30 00:00:00',\n",
       "       '2016-05-09 00:00:00', '2022-01-29 00:00:00',\n",
       "       '2016-02-26 00:00:00', '2020-09-19 00:00:00',\n",
       "       '2022-04-05 00:00:00', '2018-05-19 00:00:00',\n",
       "       '2020-06-22 00:00:00', '2015-05-24 00:00:00',\n",
       "       '2016-01-10 00:00:00', '2019-12-22 00:00:00',\n",
       "       '2021-02-09 00:00:00', '2025-10-11 00:00:00',\n",
       "       '2024-09-01 00:00:00', '2020-02-18 00:00:00',\n",
       "       '2022-09-15 00:00:00', '2025-01-18 00:00:00',\n",
       "       '2022-12-25 00:00:00', '2016-12-01 00:00:00',\n",
       "       '2026-02-06 00:00:00', '2021-02-21 00:00:00',\n",
       "       '2019-11-13 00:00:00', '2021-07-24 00:00:00',\n",
       "       '2019-01-29 00:00:00', '2022-07-20 00:00:00',\n",
       "       '2016-10-20 00:00:00', '2021-04-23 00:00:00',\n",
       "       '2024-02-12 00:00:00', '2017-11-20 00:00:00',\n",
       "       '2019-09-18 00:00:00', '2020-02-19 00:00:00',\n",
       "       '2024-08-23 00:00:00', '2023-09-23 00:00:00',\n",
       "       '2021-06-09 00:00:00', '2020-04-20 00:00:00',\n",
       "       '2016-03-16 00:00:00', '2024-04-18 00:00:00',\n",
       "       '2015-07-15 00:00:00', '2016-11-20 00:00:00',\n",
       "       '2018-11-03 00:00:00', '2022-08-30 00:00:00',\n",
       "       '2022-11-02 00:00:00', '2021-02-01 00:00:00',\n",
       "       '2017-08-24 00:00:00', '2024-10-22 00:00:00',\n",
       "       '2015-07-26 00:00:00', '2021-01-24 00:00:00',\n",
       "       '2016-07-27 00:00:00', '2019-09-11 00:00:00',\n",
       "       '2022-12-06 00:00:00', '2017-11-02 00:00:00',\n",
       "       '2022-02-05 00:00:00', '2026-04-13 00:00:00',\n",
       "       '2022-01-16 00:00:00', '2022-04-25 00:00:00',\n",
       "       '2023-04-06 00:00:00', '2020-12-05 00:00:00',\n",
       "       '2020-06-04 00:00:00', '2025-12-03 00:00:00',\n",
       "       '2025-06-29 00:00:00', '2021-09-25 00:00:00',\n",
       "       '2019-06-25 00:00:00', '2023-10-02 00:00:00',\n",
       "       '2016-11-28 00:00:00', '2025-09-22 00:00:00',\n",
       "       '2017-11-08 00:00:00', '2023-12-29 00:00:00',\n",
       "       '2024-01-16 00:00:00', '2022-03-02 00:00:00',\n",
       "       '2021-02-18 00:00:00', '2021-04-07 00:00:00',\n",
       "       '2020-03-16 00:00:00', '2019-07-08 00:00:00',\n",
       "       '2016-08-16 00:00:00', '2023-10-13 00:00:00',\n",
       "       '2018-11-13 00:00:00', '2019-11-04 00:00:00',\n",
       "       '2018-04-13 00:00:00', '2017-08-29 00:00:00',\n",
       "       '2018-01-23 00:00:00', '2022-08-12 00:00:00',\n",
       "       '2018-04-21 00:00:00', '2017-03-08 00:00:00',\n",
       "       '2023-02-10 00:00:00', '2024-12-20 00:00:00',\n",
       "       '2017-09-28 00:00:00', '2016-06-26 00:00:00',\n",
       "       '2024-04-24 00:00:00', '2020-09-06 00:00:00',\n",
       "       '2022-01-07 00:00:00', '2020-04-28 00:00:00',\n",
       "       '2017-08-11 00:00:00', '2018-10-10 00:00:00',\n",
       "       '2020-05-29 00:00:00', '2019-05-08 00:00:00',\n",
       "       '2025-05-29 00:00:00', '2023-07-15 00:00:00',\n",
       "       '2022-12-31 00:00:00', '2017-10-16 00:00:00',\n",
       "       '2019-11-14 00:00:00', '2016-10-26 00:00:00',\n",
       "       '2017-03-18 00:00:00', '2020-10-03 00:00:00',\n",
       "       '2017-06-24 00:00:00', '2021-03-30 00:00:00',\n",
       "       '2026-01-29 00:00:00', '2022-06-15 00:00:00',\n",
       "       '2023-01-09 00:00:00', '2022-10-22 00:00:00',\n",
       "       '2019-06-04 00:00:00', '2025-03-16 00:00:00',\n",
       "       '2018-08-30 00:00:00', '2021-03-08 00:00:00',\n",
       "       '2023-05-02 00:00:00', '2021-11-23 00:00:00',\n",
       "       '2018-07-08 00:00:00', '2026-04-12 00:00:00',\n",
       "       '2016-10-21 00:00:00', '2022-11-24 00:00:00',\n",
       "       '2024-01-17 00:00:00', '2020-02-07 00:00:00',\n",
       "       '2022-03-25 00:00:00', '2024-11-04 00:00:00',\n",
       "       '2016-05-04 00:00:00', '2021-08-01 00:00:00',\n",
       "       '2017-02-11 00:00:00', '2022-03-21 00:00:00',\n",
       "       '2015-09-25 00:00:00', '2024-01-28 00:00:00',\n",
       "       '2015-08-11 00:00:00', '2022-04-10 00:00:00',\n",
       "       '2020-07-22 00:00:00', '2023-03-29 00:00:00',\n",
       "       '2023-07-07 00:00:00', '2022-04-17 00:00:00',\n",
       "       '2023-01-13 00:00:00', '2016-09-20 00:00:00',\n",
       "       '2021-08-14 00:00:00', '2021-12-14 00:00:00',\n",
       "       '2022-06-04 00:00:00', '2016-12-05 00:00:00',\n",
       "       '2016-08-07 00:00:00', '2018-01-02 00:00:00',\n",
       "       '2019-03-01 00:00:00', '2025-09-07 00:00:00',\n",
       "       '2024-01-19 00:00:00', '2023-02-07 00:00:00',\n",
       "       '2017-05-01 00:00:00', '2023-07-03 00:00:00',\n",
       "       '2017-05-14 00:00:00', '2021-12-01 00:00:00',\n",
       "       '2026-04-11 00:00:00', '2022-04-21 00:00:00',\n",
       "       '2022-08-28 00:00:00', '2020-01-07 00:00:00',\n",
       "       '2018-08-11 00:00:00', '2017-08-01 00:00:00',\n",
       "       '2018-11-26 00:00:00', '2020-07-12 00:00:00',\n",
       "       '2018-06-06 00:00:00', '2020-11-20 00:00:00',\n",
       "       '2016-10-14 00:00:00', '2023-04-29 00:00:00',\n",
       "       '2021-04-09 00:00:00', '2021-07-07 00:00:00',\n",
       "       '2023-11-15 00:00:00', '2020-09-13 00:00:00',\n",
       "       '2022-08-05 00:00:00', '2021-01-26 00:00:00',\n",
       "       '2019-12-27 00:00:00', '2018-10-11 00:00:00',\n",
       "       '2020-09-04 00:00:00', '2021-04-12 00:00:00',\n",
       "       '2023-11-20 00:00:00', '2023-11-22 00:00:00',\n",
       "       '2025-06-01 00:00:00', '2025-12-30 00:00:00',\n",
       "       '2023-10-17 00:00:00', '2021-07-22 00:00:00',\n",
       "       '2019-01-18 00:00:00', '2021-04-01 00:00:00',\n",
       "       '2016-05-05 00:00:00', '2020-02-24 00:00:00',\n",
       "       '2021-05-20 00:00:00', '2020-07-02 00:00:00',\n",
       "       '2023-01-24 00:00:00', '2016-10-27 00:00:00',\n",
       "       '2024-05-23 00:00:00', '2020-01-19 00:00:00',\n",
       "       '2024-09-12 00:00:00', '2021-06-13 00:00:00',\n",
       "       '2018-08-23 00:00:00', '2018-09-26 00:00:00',\n",
       "       '2017-12-20 00:00:00', '2021-12-04 00:00:00',\n",
       "       '2019-10-04 00:00:00', '2017-10-19 00:00:00',\n",
       "       '2025-02-21 00:00:00', '2025-12-23 00:00:00',\n",
       "       '2025-05-23 00:00:00', '2023-07-13 00:00:00',\n",
       "       '2021-06-23 00:00:00', '2017-05-22 00:00:00',\n",
       "       '2024-03-28 00:00:00', '2024-07-03 00:00:00',\n",
       "       '2025-04-25 00:00:00', '2022-12-19 00:00:00',\n",
       "       '2017-04-22 00:00:00', '2026-01-21 00:00:00',\n",
       "       '2022-06-25 00:00:00', '2021-10-25 00:00:00',\n",
       "       '2017-05-30 00:00:00', '2019-08-02 00:00:00',\n",
       "       '2020-10-08 00:00:00', '2019-01-26 00:00:00',\n",
       "       '2023-05-17 00:00:00'], dtype=object)"
      ]
     },
     "execution_count": 68,
     "metadata": {},
     "output_type": "execute_result"
    }
   ],
   "source": [
    "df['Death_Date'].unique()"
   ]
  },
  {
   "cell_type": "code",
   "execution_count": 69,
   "id": "36e20d40",
   "metadata": {},
   "outputs": [
    {
     "data": {
      "text/plain": [
       "Death_Date\n",
       "2019-01-27 00:00:00    3\n",
       "2021-11-15 00:00:00    3\n",
       "2024-02-05 00:00:00    3\n",
       "2022-06-28 00:00:00    3\n",
       "2024-01-14 00:00:00    3\n",
       "                      ..\n",
       "2017-04-22 00:00:00    1\n",
       "2022-12-19 00:00:00    1\n",
       "2025-04-25 00:00:00    1\n",
       "2024-07-03 00:00:00    1\n",
       "2024-03-28 00:00:00    1\n",
       "Name: count, Length: 867, dtype: int64"
      ]
     },
     "execution_count": 69,
     "metadata": {},
     "output_type": "execute_result"
    }
   ],
   "source": [
    "df['Death_Date'].value_counts()"
   ]
  },
  {
   "cell_type": "code",
   "execution_count": 70,
   "id": "6f156146",
   "metadata": {},
   "outputs": [
    {
     "data": {
      "text/plain": [
       "np.int64(9008)"
      ]
     },
     "execution_count": 70,
     "metadata": {},
     "output_type": "execute_result"
    }
   ],
   "source": [
    "df.Death_Date.isna().sum()"
   ]
  },
  {
   "cell_type": "markdown",
   "id": "94f15a41",
   "metadata": {},
   "source": [
    "**Key Insight**\n",
    "###### The Death_Date column has more than 90% missing values, thus, it is should be dropped."
   ]
  },
  {
   "cell_type": "markdown",
   "id": "9eeabdd5",
   "metadata": {},
   "source": [
    "##### Cause_of_Death column"
   ]
  },
  {
   "cell_type": "code",
   "execution_count": 71,
   "id": "d5b4c5f9",
   "metadata": {},
   "outputs": [
    {
     "data": {
      "text/plain": [
       "array([nan, 'Cancer', 'Complications'], dtype=object)"
      ]
     },
     "execution_count": 71,
     "metadata": {},
     "output_type": "execute_result"
    }
   ],
   "source": [
    "df.Cause_of_Death.unique()"
   ]
  },
  {
   "cell_type": "code",
   "execution_count": 72,
   "id": "228cf91e",
   "metadata": {},
   "outputs": [
    {
     "data": {
      "text/plain": [
       "Cause_of_Death\n",
       "Complications    507\n",
       "Cancer           485\n",
       "Name: count, dtype: int64"
      ]
     },
     "execution_count": 72,
     "metadata": {},
     "output_type": "execute_result"
    }
   ],
   "source": [
    "df['Cause_of_Death'].value_counts()"
   ]
  },
  {
   "cell_type": "code",
   "execution_count": 73,
   "id": "4037ff93",
   "metadata": {},
   "outputs": [
    {
     "data": {
      "text/plain": [
       "dtype('O')"
      ]
     },
     "execution_count": 73,
     "metadata": {},
     "output_type": "execute_result"
    }
   ],
   "source": [
    "df['Cause_of_Death'].dtypes"
   ]
  },
  {
   "cell_type": "code",
   "execution_count": 74,
   "id": "17b3e59f",
   "metadata": {},
   "outputs": [
    {
     "data": {
      "text/plain": [
       "np.int64(9008)"
      ]
     },
     "execution_count": 74,
     "metadata": {},
     "output_type": "execute_result"
    }
   ],
   "source": [
    "df['Cause_of_Death'].isna().sum()"
   ]
  },
  {
   "cell_type": "markdown",
   "id": "34c9c03c",
   "metadata": {},
   "source": [
    "**Key Insight**\n",
    "###### The Cause_of_Death column contains more than 90% missing values (NaN), so it should be dropped."
   ]
  },
  {
   "cell_type": "markdown",
   "id": "1d5e9056",
   "metadata": {},
   "source": [
    "##### Smoking_Status column"
   ]
  },
  {
   "cell_type": "code",
   "execution_count": 75,
   "id": "2d1609f4",
   "metadata": {},
   "outputs": [
    {
     "data": {
      "text/plain": [
       "array(['Non-Smoker', 'Smoker', 'Former Smoker'], dtype=object)"
      ]
     },
     "execution_count": 75,
     "metadata": {},
     "output_type": "execute_result"
    }
   ],
   "source": [
    "df['Smoking_Status'].unique()"
   ]
  },
  {
   "cell_type": "code",
   "execution_count": 76,
   "id": "1b76ddac",
   "metadata": {},
   "outputs": [
    {
     "data": {
      "text/plain": [
       "Smoking_Status\n",
       "Non-Smoker       5038\n",
       "Smoker           3045\n",
       "Former Smoker    1917\n",
       "Name: count, dtype: int64"
      ]
     },
     "execution_count": 76,
     "metadata": {},
     "output_type": "execute_result"
    }
   ],
   "source": [
    "df['Smoking_Status'].value_counts()"
   ]
  },
  {
   "cell_type": "code",
   "execution_count": 77,
   "id": "df864392",
   "metadata": {},
   "outputs": [
    {
     "data": {
      "text/plain": [
       "dtype('O')"
      ]
     },
     "execution_count": 77,
     "metadata": {},
     "output_type": "execute_result"
    }
   ],
   "source": [
    "df['Smoking_Status'].dtypes"
   ]
  },
  {
   "cell_type": "code",
   "execution_count": 78,
   "id": "9eda7a6f",
   "metadata": {},
   "outputs": [
    {
     "data": {
      "text/plain": [
       "np.int64(0)"
      ]
     },
     "execution_count": 78,
     "metadata": {},
     "output_type": "execute_result"
    }
   ],
   "source": [
    "df['Smoking_Status'].isna().sum()"
   ]
  },
  {
   "cell_type": "markdown",
   "id": "c37ae4c1",
   "metadata": {},
   "source": [
    "##### Comorbidities column"
   ]
  },
  {
   "cell_type": "code",
   "execution_count": 79,
   "id": "89cfb116",
   "metadata": {},
   "outputs": [
    {
     "data": {
      "text/plain": [
       "array([nan, 'Hypertension', 'Cardiovascular Disease', 'Diabetes'],\n",
       "      dtype=object)"
      ]
     },
     "execution_count": 79,
     "metadata": {},
     "output_type": "execute_result"
    }
   ],
   "source": [
    "df['Comorbidities'].unique()"
   ]
  },
  {
   "cell_type": "code",
   "execution_count": 80,
   "id": "aa8a21de",
   "metadata": {},
   "outputs": [
    {
     "data": {
      "text/plain": [
       "Comorbidities\n",
       "Hypertension              2945\n",
       "Diabetes                  2005\n",
       "Cardiovascular Disease    1003\n",
       "Name: count, dtype: int64"
      ]
     },
     "execution_count": 80,
     "metadata": {},
     "output_type": "execute_result"
    }
   ],
   "source": [
    "df['Comorbidities'].value_counts()"
   ]
  },
  {
   "cell_type": "code",
   "execution_count": 81,
   "id": "8416cdae",
   "metadata": {},
   "outputs": [
    {
     "data": {
      "text/plain": [
       "dtype('O')"
      ]
     },
     "execution_count": 81,
     "metadata": {},
     "output_type": "execute_result"
    }
   ],
   "source": [
    "df['Comorbidities'].dtypes"
   ]
  },
  {
   "cell_type": "code",
   "execution_count": 82,
   "id": "3a92d63f",
   "metadata": {},
   "outputs": [
    {
     "data": {
      "text/plain": [
       "np.int64(4047)"
      ]
     },
     "execution_count": 82,
     "metadata": {},
     "output_type": "execute_result"
    }
   ],
   "source": [
    "df['Comorbidities'].isna().sum()"
   ]
  },
  {
   "cell_type": "code",
   "execution_count": 84,
   "id": "6588ab82",
   "metadata": {},
   "outputs": [
    {
     "data": {
      "text/plain": [
       "np.int64(0)"
      ]
     },
     "execution_count": 84,
     "metadata": {},
     "output_type": "execute_result"
    }
   ],
   "source": [
    "# Fill missing values in comorbities column with unknown\n",
    "df['Comorbidities'] = df['Comorbidities'].fillna('unknown')\n",
    "\n",
    "# To confirm if the missing values were filled\n",
    "df['Comorbidities'].isna().sum()"
   ]
  },
  {
   "cell_type": "markdown",
   "id": "a1648d40",
   "metadata": {},
   "source": [
    "##### Ethnicity column"
   ]
  },
  {
   "cell_type": "code",
   "execution_count": 85,
   "id": "fc34adc5",
   "metadata": {},
   "outputs": [
    {
     "data": {
      "text/plain": [
       "array(['European', 'South Asian', 'African', 'East Asian', 'Arab'],\n",
       "      dtype=object)"
      ]
     },
     "execution_count": 85,
     "metadata": {},
     "output_type": "execute_result"
    }
   ],
   "source": [
    "df['Ethnicity'].unique()"
   ]
  },
  {
   "cell_type": "code",
   "execution_count": 86,
   "id": "d05b20bc",
   "metadata": {},
   "outputs": [
    {
     "data": {
      "text/plain": [
       "Ethnicity\n",
       "South Asian    2083\n",
       "African        1988\n",
       "European       1983\n",
       "Arab           1983\n",
       "East Asian     1963\n",
       "Name: count, dtype: int64"
      ]
     },
     "execution_count": 86,
     "metadata": {},
     "output_type": "execute_result"
    }
   ],
   "source": [
    "df['Ethnicity'].value_counts()"
   ]
  },
  {
   "cell_type": "code",
   "execution_count": 87,
   "id": "29eab675",
   "metadata": {},
   "outputs": [
    {
     "data": {
      "text/plain": [
       "dtype('O')"
      ]
     },
     "execution_count": 87,
     "metadata": {},
     "output_type": "execute_result"
    }
   ],
   "source": [
    "df['Ethnicity'].dtype"
   ]
  },
  {
   "cell_type": "code",
   "execution_count": 88,
   "id": "d0aba527",
   "metadata": {},
   "outputs": [
    {
     "data": {
      "text/plain": [
       "np.int64(0)"
      ]
     },
     "execution_count": 88,
     "metadata": {},
     "output_type": "execute_result"
    }
   ],
   "source": [
    "df['Ethnicity'].isna().sum()"
   ]
  },
  {
   "cell_type": "markdown",
   "id": "ca7304be",
   "metadata": {},
   "source": [
    "##### Height column"
   ]
  },
  {
   "cell_type": "code",
   "execution_count": 89,
   "id": "d0706d03",
   "metadata": {},
   "outputs": [
    {
     "data": {
      "text/plain": [
       "array([157, 175, 155, 160, 176, 189, 162, 180, 173, 166, 168, 171, 174,\n",
       "       169, 178, 179, 156, 172, 159, 177, 161, 188, 167, 165, 170, 164,\n",
       "       191, 192, 181, 187, 144, 183, 149, 163, 182, 184, 185, 138, 152,\n",
       "       195, 158, 199, 194, 186, 198, 193, 151, 148, 150, 154, 146, 143,\n",
       "       142, 153, 147, 190, 145, 202, 196, 141, 197, 132, 139, 208, 201,\n",
       "       200, 136, 137, 204, 140, 206, 131])"
      ]
     },
     "execution_count": 89,
     "metadata": {},
     "output_type": "execute_result"
    }
   ],
   "source": [
    "df['Height'].unique()"
   ]
  },
  {
   "cell_type": "code",
   "execution_count": 91,
   "id": "de3fe18a",
   "metadata": {},
   "outputs": [
    {
     "data": {
      "text/plain": [
       "Height\n",
       "171    437\n",
       "170    414\n",
       "168    410\n",
       "169    403\n",
       "167    394\n",
       "      ... \n",
       "139      1\n",
       "208      1\n",
       "204      1\n",
       "206      1\n",
       "131      1\n",
       "Name: count, Length: 72, dtype: int64"
      ]
     },
     "execution_count": 91,
     "metadata": {},
     "output_type": "execute_result"
    }
   ],
   "source": [
    "df['Height'].value_counts()"
   ]
  },
  {
   "cell_type": "code",
   "execution_count": 92,
   "id": "3a66ec5b",
   "metadata": {},
   "outputs": [
    {
     "data": {
      "text/plain": [
       "dtype('int64')"
      ]
     },
     "execution_count": 92,
     "metadata": {},
     "output_type": "execute_result"
    }
   ],
   "source": [
    "df['Height'].dtypes"
   ]
  },
  {
   "cell_type": "code",
   "execution_count": 93,
   "id": "cb933d73",
   "metadata": {},
   "outputs": [
    {
     "data": {
      "text/plain": [
       "np.int64(0)"
      ]
     },
     "execution_count": 93,
     "metadata": {},
     "output_type": "execute_result"
    }
   ],
   "source": [
    "df['Height'].isna().sum()"
   ]
  },
  {
   "cell_type": "markdown",
   "id": "b9ad3277",
   "metadata": {},
   "source": [
    "##### Weight column"
   ]
  },
  {
   "cell_type": "code",
   "execution_count": 98,
   "id": "cfd5221a",
   "metadata": {},
   "outputs": [
    {
     "data": {
      "text/plain": [
       "array([ 61,  80,  50,  44, 101,  59,  66,  27,  60,  73,  48,  71,  67,\n",
       "        84,  83,  88,  82,  56,  75,  64,  85,  72,  45,  77,  55,  76,\n",
       "        89,  49,  99,  81,  78,  94,  95,  87,  53,  70,  41,  39,  57,\n",
       "        51,  97,  65,  63,  96,  74,  68,  36,  58,  38,  62,  79,  47,\n",
       "        69,  52,  92,  86,  54, 100,  42,  91, 103,  90,  43,  34,  98,\n",
       "        18,  40,  93,  37,  35, 117, 109,  46, 107, 106,  32, 102,  24,\n",
       "        31,  33, 104, 105, 112,  28, 110,  29,  23, 118, 108,  30,  26,\n",
       "       111, 114,  25, 122, 113, 116, 120,  19,  21,  22, 115])"
      ]
     },
     "execution_count": 98,
     "metadata": {},
     "output_type": "execute_result"
    }
   ],
   "source": [
    "df['Weight'].unique()"
   ]
  },
  {
   "cell_type": "code",
   "execution_count": 99,
   "id": "774a49c2",
   "metadata": {},
   "outputs": [
    {
     "data": {
      "text/plain": [
       "Weight\n",
       "71     288\n",
       "68     284\n",
       "72     278\n",
       "78     269\n",
       "74     268\n",
       "      ... \n",
       "113      2\n",
       "19       2\n",
       "120      1\n",
       "22       1\n",
       "115      1\n",
       "Name: count, Length: 102, dtype: int64"
      ]
     },
     "execution_count": 99,
     "metadata": {},
     "output_type": "execute_result"
    }
   ],
   "source": [
    "df['Weight'].value_counts()"
   ]
  },
  {
   "cell_type": "code",
   "execution_count": 100,
   "id": "d501f8a5",
   "metadata": {},
   "outputs": [
    {
     "data": {
      "text/plain": [
       "np.int64(0)"
      ]
     },
     "execution_count": 100,
     "metadata": {},
     "output_type": "execute_result"
    }
   ],
   "source": [
    "df['Weight'].isna().sum()"
   ]
  },
  {
   "cell_type": "code",
   "execution_count": 101,
   "id": "21b34c23",
   "metadata": {},
   "outputs": [
    {
     "data": {
      "text/plain": [
       "dtype('int64')"
      ]
     },
     "execution_count": 101,
     "metadata": {},
     "output_type": "execute_result"
    }
   ],
   "source": [
    "df['Weight'].dtype"
   ]
  },
  {
   "cell_type": "markdown",
   "id": "96a2c200",
   "metadata": {},
   "source": [
    "##### Cancer_Stage column"
   ]
  },
  {
   "cell_type": "code",
   "execution_count": 116,
   "id": "04276549",
   "metadata": {},
   "outputs": [
    {
     "data": {
      "text/plain": [
       "array(['II', 'III', 'I', 'IV'], dtype=object)"
      ]
     },
     "execution_count": 116,
     "metadata": {},
     "output_type": "execute_result"
    }
   ],
   "source": [
    "df['Cancer_Stage'].unique()"
   ]
  },
  {
   "cell_type": "code",
   "execution_count": 117,
   "id": "b57a980a",
   "metadata": {},
   "outputs": [
    {
     "data": {
      "text/plain": [
       "Cancer_Stage\n",
       "III    3041\n",
       "II     3036\n",
       "I      2419\n",
       "IV     1504\n",
       "Name: count, dtype: int64"
      ]
     },
     "execution_count": 117,
     "metadata": {},
     "output_type": "execute_result"
    }
   ],
   "source": [
    "df['Cancer_Stage'].value_counts()"
   ]
  },
  {
   "cell_type": "markdown",
   "id": "d02a056f",
   "metadata": {},
   "source": [
    "#### Exploratory Data Analysis"
   ]
  },
  {
   "cell_type": "code",
   "execution_count": 104,
   "id": "1bf0a671",
   "metadata": {},
   "outputs": [
    {
     "data": {
      "text/html": [
       "<div>\n",
       "<style scoped>\n",
       "    .dataframe tbody tr th:only-of-type {\n",
       "        vertical-align: middle;\n",
       "    }\n",
       "\n",
       "    .dataframe tbody tr th {\n",
       "        vertical-align: top;\n",
       "    }\n",
       "\n",
       "    .dataframe thead th {\n",
       "        text-align: right;\n",
       "    }\n",
       "</style>\n",
       "<table border=\"1\" class=\"dataframe\">\n",
       "  <thead>\n",
       "    <tr style=\"text-align: right;\">\n",
       "      <th></th>\n",
       "      <th>count</th>\n",
       "      <th>mean</th>\n",
       "      <th>std</th>\n",
       "      <th>min</th>\n",
       "      <th>25%</th>\n",
       "      <th>50%</th>\n",
       "      <th>75%</th>\n",
       "      <th>max</th>\n",
       "    </tr>\n",
       "  </thead>\n",
       "  <tbody>\n",
       "    <tr>\n",
       "      <th>Age</th>\n",
       "      <td>10000.0</td>\n",
       "      <td>53.5397</td>\n",
       "      <td>20.757324</td>\n",
       "      <td>18.0</td>\n",
       "      <td>36.0</td>\n",
       "      <td>53.0</td>\n",
       "      <td>72.0</td>\n",
       "      <td>89.0</td>\n",
       "    </tr>\n",
       "    <tr>\n",
       "      <th>Weight</th>\n",
       "      <td>10000.0</td>\n",
       "      <td>69.5500</td>\n",
       "      <td>14.933339</td>\n",
       "      <td>18.0</td>\n",
       "      <td>60.0</td>\n",
       "      <td>70.0</td>\n",
       "      <td>80.0</td>\n",
       "      <td>122.0</td>\n",
       "    </tr>\n",
       "    <tr>\n",
       "      <th>Height</th>\n",
       "      <td>10000.0</td>\n",
       "      <td>169.3475</td>\n",
       "      <td>10.070118</td>\n",
       "      <td>131.0</td>\n",
       "      <td>163.0</td>\n",
       "      <td>169.0</td>\n",
       "      <td>176.0</td>\n",
       "      <td>208.0</td>\n",
       "    </tr>\n",
       "  </tbody>\n",
       "</table>\n",
       "</div>"
      ],
      "text/plain": [
       "          count      mean        std    min    25%    50%    75%    max\n",
       "Age     10000.0   53.5397  20.757324   18.0   36.0   53.0   72.0   89.0\n",
       "Weight  10000.0   69.5500  14.933339   18.0   60.0   70.0   80.0  122.0\n",
       "Height  10000.0  169.3475  10.070118  131.0  163.0  169.0  176.0  208.0"
      ]
     },
     "execution_count": 104,
     "metadata": {},
     "output_type": "execute_result"
    }
   ],
   "source": [
    "# Check for summary statistics\n",
    "df.describe(include='number').T"
   ]
  },
  {
   "cell_type": "markdown",
   "id": "a6c6284e",
   "metadata": {},
   "source": [
    "**Key Insights**\n",
    "###### From the above summary statistics, the minimum values of 18 kg for weight and 131 cm for height suggest possible outliers in those columns, which necessitates closer examination to understand the reasons behind these unusual entries. Meanwhile, the distribution of the Age column appears fairly symmetric, indicating no strong skewness and a relatively balanced spread around the mean."
   ]
  },
  {
   "cell_type": "markdown",
   "id": "84398ffe",
   "metadata": {},
   "source": [
    "##### Checking for possible outliers using boxplot"
   ]
  },
  {
   "cell_type": "code",
   "execution_count": 105,
   "id": "a5f51798",
   "metadata": {},
   "outputs": [
    {
     "data": {
      "image/png": "[encoded data removed]",
      "text/plain": [
       "<Figure size 700x600 with 1 Axes>"
      ]
     },
     "metadata": {},
     "output_type": "display_data"
    }
   ],
   "source": [
    "plt.figure(figsize=(7,6))\n",
    "sns.boxplot(data=df[['Age','Weight','Height']])\n",
    "plt.title('Boxplot Showing Possible Outliers')\n",
    "plt.show()"
   ]
  },
  {
   "cell_type": "markdown",
   "id": "b3952a58",
   "metadata": {},
   "source": [
    "**Key Insights**\n",
    "###### There are outliers present in the Weight and Height columns, as shown in the boxplot above. No outliers are observed in the Age column."
   ]
  },
  {
   "cell_type": "markdown",
   "id": "15ff2d37",
   "metadata": {},
   "source": [
    "##### Univariate Analysis"
   ]
  },
  {
   "cell_type": "code",
   "execution_count": 108,
   "id": "7c9c88fe",
   "metadata": {},
   "outputs": [
    {
     "data": {
      "image/png": "[encoded data removed]",
      "text/plain": [
       "<Figure size 1000x800 with 4 Axes>"
      ]
     },
     "metadata": {},
     "output_type": "display_data"
    }
   ],
   "source": [
    "\n",
    "df.hist(figsize=(10,8), grid=False, color='orange')\n",
    "plt.show()"
   ]
  },
  {
   "cell_type": "markdown",
   "id": "bd7043d2",
   "metadata": {},
   "source": [
    "**Key Insights**\n",
    "###### The distribution of the Height column is approximately symmetric and follows a normal distribution. The Weight column is slightly right-skewed, with more individuals concentrated at lower weight values and a longer tail toward higher weights. Meanwhile, the Age column does not conform to a normal distribution; instead, it appears fairly uniform, with ages spread relatively evenly across the entire range."
   ]
  },
  {
   "cell_type": "markdown",
   "id": "03a8d86a",
   "metadata": {},
   "source": [
    "##### Bivariate Analysis"
   ]
  },
  {
   "cell_type": "code",
   "execution_count": 112,
   "id": "f20d4eb2",
   "metadata": {},
   "outputs": [
    {
     "data": {
      "text/html": [
       "<div>\n",
       "<style scoped>\n",
       "    .dataframe tbody tr th:only-of-type {\n",
       "        vertical-align: middle;\n",
       "    }\n",
       "\n",
       "    .dataframe tbody tr th {\n",
       "        vertical-align: top;\n",
       "    }\n",
       "\n",
       "    .dataframe thead th {\n",
       "        text-align: right;\n",
       "    }\n",
       "</style>\n",
       "<table border=\"1\" class=\"dataframe\">\n",
       "  <thead>\n",
       "    <tr style=\"text-align: right;\">\n",
       "      <th></th>\n",
       "      <th>Age</th>\n",
       "      <th>Weight</th>\n",
       "      <th>Height</th>\n",
       "    </tr>\n",
       "  </thead>\n",
       "  <tbody>\n",
       "    <tr>\n",
       "      <th>Age</th>\n",
       "      <td>1.000000</td>\n",
       "      <td>0.009409</td>\n",
       "      <td>-0.005786</td>\n",
       "    </tr>\n",
       "    <tr>\n",
       "      <th>Weight</th>\n",
       "      <td>0.009409</td>\n",
       "      <td>1.000000</td>\n",
       "      <td>0.013776</td>\n",
       "    </tr>\n",
       "    <tr>\n",
       "      <th>Height</th>\n",
       "      <td>-0.005786</td>\n",
       "      <td>0.013776</td>\n",
       "      <td>1.000000</td>\n",
       "    </tr>\n",
       "  </tbody>\n",
       "</table>\n",
       "</div>"
      ],
      "text/plain": [
       "             Age    Weight    Height\n",
       "Age     1.000000  0.009409 -0.005786\n",
       "Weight  0.009409  1.000000  0.013776\n",
       "Height -0.005786  0.013776  1.000000"
      ]
     },
     "execution_count": 112,
     "metadata": {},
     "output_type": "execute_result"
    }
   ],
   "source": [
    "var_cor = df.corr(numeric_only=True)\n",
    "var_cor"
   ]
  },
  {
   "cell_type": "code",
   "execution_count": 114,
   "id": "65d63ab4",
   "metadata": {},
   "outputs": [
    {
     "data": {
      "image/png": "[encoded data removed]",
      "text/plain": [
       "<Figure size 700x600 with 2 Axes>"
      ]
     },
     "metadata": {},
     "output_type": "display_data"
    }
   ],
   "source": [
    "plt.figure(figsize=(7,6))\n",
    "sns.heatmap(data=var_cor, annot=True, cmap='viridis')\n",
    "plt.show()"
   ]
  },
  {
   "cell_type": "markdown",
   "id": "cbdbeae1",
   "metadata": {},
   "source": [
    "**Key Insight**\n",
    "###### The numerical variables exhibit only weak relationships, with no strong correlations among them"
   ]
  },
  {
   "cell_type": "markdown",
   "id": "8c7ab740",
   "metadata": {},
   "source": [
    "#####  Recovery Rates Over the Years"
   ]
  },
  {
   "cell_type": "code",
   "execution_count": 119,
   "id": "f92f9914",
   "metadata": {},
   "outputs": [
    {
     "data": {
      "text/plain": [
       "dtype('O')"
      ]
     },
     "execution_count": 119,
     "metadata": {},
     "output_type": "execute_result"
    }
   ],
   "source": [
    "df['Diagnosis_Date'].dtypes"
   ]
  },
  {
   "cell_type": "code",
   "execution_count": 126,
   "id": "07c4ef6a",
   "metadata": {},
   "outputs": [],
   "source": [
    "# Convert the date column to a date format\n",
    "df['Diagnosis_Date'] = pd.to_datetime(df['Diagnosis_Date'])\n",
    "\n",
    "# To extra only the date \n",
    "#df['Diagnosis_Date'] = df['Diagnosis_Date'].dt.date\n",
    "\n",
    "# Check for the data type \n",
    "df['Diagnosis_Date'].dtypes\n",
    "\n",
    "# Extra the year from the Diagnosis_Date column\n",
    "df['Diagnosis_Year'] = df['Diagnosis_Date'].dt.year"
   ]
  },
  {
   "cell_type": "code",
   "execution_count": 130,
   "id": "86236514",
   "metadata": {},
   "outputs": [
    {
     "data": {
      "text/plain": [
       "array([2020, 2015, 2018, 2022, 2019, 2023, 2021, 2017, 2016, 2024],\n",
       "      dtype=int32)"
      ]
     },
     "execution_count": 130,
     "metadata": {},
     "output_type": "execute_result"
    }
   ],
   "source": [
    "df['Diagnosis_Year'].unique()"
   ]
  },
  {
   "cell_type": "code",
   "execution_count": 141,
   "id": "3bcc2bce",
   "metadata": {},
   "outputs": [
    {
     "data": {
      "text/html": [
       "<div>\n",
       "<style scoped>\n",
       "    .dataframe tbody tr th:only-of-type {\n",
       "        vertical-align: middle;\n",
       "    }\n",
       "\n",
       "    .dataframe tbody tr th {\n",
       "        vertical-align: top;\n",
       "    }\n",
       "\n",
       "    .dataframe thead th {\n",
       "        text-align: right;\n",
       "    }\n",
       "</style>\n",
       "<table border=\"1\" class=\"dataframe\">\n",
       "  <thead>\n",
       "    <tr style=\"text-align: right;\">\n",
       "      <th>Outcome</th>\n",
       "      <th>Deceased</th>\n",
       "      <th>Recovered</th>\n",
       "      <th>Under Treatment</th>\n",
       "    </tr>\n",
       "    <tr>\n",
       "      <th>Diagnosis_Year</th>\n",
       "      <th></th>\n",
       "      <th></th>\n",
       "      <th></th>\n",
       "    </tr>\n",
       "  </thead>\n",
       "  <tbody>\n",
       "    <tr>\n",
       "      <th>2015</th>\n",
       "      <td>117</td>\n",
       "      <td>556</td>\n",
       "      <td>448</td>\n",
       "    </tr>\n",
       "    <tr>\n",
       "      <th>2016</th>\n",
       "      <td>102</td>\n",
       "      <td>536</td>\n",
       "      <td>438</td>\n",
       "    </tr>\n",
       "    <tr>\n",
       "      <th>2017</th>\n",
       "      <td>107</td>\n",
       "      <td>497</td>\n",
       "      <td>452</td>\n",
       "    </tr>\n",
       "    <tr>\n",
       "      <th>2018</th>\n",
       "      <td>114</td>\n",
       "      <td>514</td>\n",
       "      <td>414</td>\n",
       "    </tr>\n",
       "    <tr>\n",
       "      <th>2019</th>\n",
       "      <td>96</td>\n",
       "      <td>532</td>\n",
       "      <td>450</td>\n",
       "    </tr>\n",
       "  </tbody>\n",
       "</table>\n",
       "</div>"
      ],
      "text/plain": [
       "Outcome         Deceased  Recovered  Under Treatment\n",
       "Diagnosis_Year                                      \n",
       "2015                 117        556              448\n",
       "2016                 102        536              438\n",
       "2017                 107        497              452\n",
       "2018                 114        514              414\n",
       "2019                  96        532              450"
      ]
     },
     "execution_count": 141,
     "metadata": {},
     "output_type": "execute_result"
    }
   ],
   "source": [
    "# Calculate the Recovery Rate by Year and pivot the table\n",
    "cancer_outcome_by_year = df.groupby('Diagnosis_Year')['Outcome'].value_counts().unstack()\n",
    "cancer_outcome_by_year.head()"
   ]
  },
  {
   "cell_type": "code",
   "execution_count": 148,
   "id": "1f7b746e",
   "metadata": {},
   "outputs": [
    {
     "name": "stdout",
     "output_type": "stream",
     "text": [
      "Diagnosis_Year\n",
      "2015    556\n",
      "2016    536\n",
      "2017    497\n",
      "2018    514\n",
      "2019    532\n",
      "2020    566\n",
      "2021    561\n",
      "2022    559\n",
      "2023    527\n",
      "2024     83\n",
      "Name: Recovered, dtype: int64\n"
     ]
    }
   ],
   "source": [
    "# To find the Recovery Rate by Year\n",
    "recovery_rate_year = cancer_outcome_by_year['Recovered']\n",
    "\n",
    "\n",
    "print(recovery_rate_year)"
   ]
  },
  {
   "cell_type": "code",
   "execution_count": null,
   "id": "9a5a2802",
   "metadata": {},
   "outputs": [
    {
     "data": {
      "image/png": "[encoded data removed]",
      "text/plain": [
       "<Figure size 800x500 with 1 Axes>"
      ]
     },
     "metadata": {},
     "output_type": "display_data"
    }
   ],
   "source": [
    "# Plot a chart to visualize the recovery rate by year\n",
    "plt.figure(figsize=(8,5))\n",
    "sns.lineplot(data=recovery_rate_year)\n",
    "plt.title('Recovery Rate by Year')\n",
    "plt.show()"
   ]
  },
  {
   "cell_type": "markdown",
   "id": "23091091",
   "metadata": {},
   "source": [
    "#####  Recovery Rate per Cancer Type"
   ]
  },
  {
   "cell_type": "code",
   "execution_count": 152,
   "id": "f246c849",
   "metadata": {},
   "outputs": [
    {
     "data": {
      "text/plain": [
       "array(['Liver', 'Leukemia', 'Lung', 'Pancreatic', 'Breast', 'Ovarian',\n",
       "       'Prostate', 'Colorectal'], dtype=object)"
      ]
     },
     "execution_count": 152,
     "metadata": {},
     "output_type": "execute_result"
    }
   ],
   "source": [
    "# Check for the unique values in Cancer_Type column\n",
    "df['Cancer_Type'].unique()"
   ]
  },
  {
   "cell_type": "code",
   "execution_count": 153,
   "id": "fb6c5859",
   "metadata": {},
   "outputs": [
    {
     "data": {
      "text/html": [
       "<div>\n",
       "<style scoped>\n",
       "    .dataframe tbody tr th:only-of-type {\n",
       "        vertical-align: middle;\n",
       "    }\n",
       "\n",
       "    .dataframe tbody tr th {\n",
       "        vertical-align: top;\n",
       "    }\n",
       "\n",
       "    .dataframe thead th {\n",
       "        text-align: right;\n",
       "    }\n",
       "</style>\n",
       "<table border=\"1\" class=\"dataframe\">\n",
       "  <thead>\n",
       "    <tr style=\"text-align: right;\">\n",
       "      <th>Outcome</th>\n",
       "      <th>Deceased</th>\n",
       "      <th>Recovered</th>\n",
       "      <th>Under Treatment</th>\n",
       "    </tr>\n",
       "    <tr>\n",
       "      <th>Cancer_Type</th>\n",
       "      <th></th>\n",
       "      <th></th>\n",
       "      <th></th>\n",
       "    </tr>\n",
       "  </thead>\n",
       "  <tbody>\n",
       "    <tr>\n",
       "      <th>Breast</th>\n",
       "      <td>120</td>\n",
       "      <td>614</td>\n",
       "      <td>507</td>\n",
       "    </tr>\n",
       "    <tr>\n",
       "      <th>Colorectal</th>\n",
       "      <td>109</td>\n",
       "      <td>618</td>\n",
       "      <td>499</td>\n",
       "    </tr>\n",
       "    <tr>\n",
       "      <th>Leukemia</th>\n",
       "      <td>127</td>\n",
       "      <td>660</td>\n",
       "      <td>527</td>\n",
       "    </tr>\n",
       "    <tr>\n",
       "      <th>Liver</th>\n",
       "      <td>115</td>\n",
       "      <td>630</td>\n",
       "      <td>518</td>\n",
       "    </tr>\n",
       "    <tr>\n",
       "      <th>Lung</th>\n",
       "      <td>132</td>\n",
       "      <td>615</td>\n",
       "      <td>486</td>\n",
       "    </tr>\n",
       "  </tbody>\n",
       "</table>\n",
       "</div>"
      ],
      "text/plain": [
       "Outcome      Deceased  Recovered  Under Treatment\n",
       "Cancer_Type                                      \n",
       "Breast            120        614              507\n",
       "Colorectal        109        618              499\n",
       "Leukemia          127        660              527\n",
       "Liver             115        630              518\n",
       "Lung              132        615              486"
      ]
     },
     "execution_count": 153,
     "metadata": {},
     "output_type": "execute_result"
    }
   ],
   "source": [
    "# Outcome by cancer_type table\n",
    "cancer_outcome_by_type = df.groupby('Cancer_Type')['Outcome'].value_counts().unstack()\n",
    "cancer_outcome_by_type.head()"
   ]
  },
  {
   "cell_type": "code",
   "execution_count": 154,
   "id": "0fdda1a3",
   "metadata": {},
   "outputs": [
    {
     "name": "stdout",
     "output_type": "stream",
     "text": [
      "Cancer_Type\n",
      "Breast        614\n",
      "Colorectal    618\n",
      "Leukemia      660\n",
      "Liver         630\n",
      "Lung          615\n",
      "Ovarian       601\n",
      "Pancreatic    594\n",
      "Prostate      599\n",
      "Name: Recovered, dtype: int64\n"
     ]
    }
   ],
   "source": [
    "recovery_rate_by_cancer_type = cancer_outcome_by_type['Recovered']\n",
    "print(recovery_rate_by_cancer_type)"
   ]
  },
  {
   "cell_type": "code",
   "execution_count": 159,
   "id": "b47b70af",
   "metadata": {},
   "outputs": [
    {
     "data": {
      "image/png": "[encoded data removed]",
      "text/plain": [
       "<Figure size 700x500 with 1 Axes>"
      ]
     },
     "metadata": {},
     "output_type": "display_data"
    }
   ],
   "source": [
    "# Visualize the recovery rate by cancer_type\n",
    "plt.figure(figsize=(7,5))\n",
    "sns.barplot(data=recovery_rate_by_cancer_type)\n",
    "plt.title('Recovery Rate by Cancer Type')\n",
    "plt.xticks()\n",
    "plt.tight_layout()\n",
    "plt.show()"
   ]
  },
  {
   "cell_type": "markdown",
   "id": "a4db013a",
   "metadata": {},
   "source": [
    "#####  The Impact of Smoking Status on Patient Outcomes"
   ]
  },
  {
   "cell_type": "code",
   "execution_count": 170,
   "id": "90cc1274",
   "metadata": {},
   "outputs": [
    {
     "data": {
      "text/plain": [
       "array(['Non-Smoker', 'Smoker', 'Former Smoker'], dtype=object)"
      ]
     },
     "execution_count": 170,
     "metadata": {},
     "output_type": "execute_result"
    }
   ],
   "source": [
    "# Check for the unique values\n",
    "df['Smoking_Status'].unique()"
   ]
  },
  {
   "cell_type": "code",
   "execution_count": 171,
   "id": "7d42f079",
   "metadata": {},
   "outputs": [
    {
     "data": {
      "text/plain": [
       "array(['Recovered', 'Under Treatment', 'Deceased'], dtype=object)"
      ]
     },
     "execution_count": 171,
     "metadata": {},
     "output_type": "execute_result"
    }
   ],
   "source": [
    "df['Outcome'].unique()"
   ]
  },
  {
   "cell_type": "code",
   "execution_count": 172,
   "id": "7399e96a",
   "metadata": {},
   "outputs": [],
   "source": [
    "from scipy.stats import chi2_contingency"
   ]
  },
  {
   "cell_type": "code",
   "execution_count": 194,
   "id": "df5e0b02",
   "metadata": {},
   "outputs": [
    {
     "name": "stdout",
     "output_type": "stream",
     "text": [
      "Chi Square-Value: 1.6053980618120043\n",
      "P-Value: 0.8078216076411294\n",
      "Statistically, Smoking_Status does not have an impact on the Cancer_Type\n"
     ]
    }
   ],
   "source": [
    "# Using chi-square statistical testing\n",
    "contingency_table = pd.crosstab(df['Smoking_Status'], df['Outcome'])\n",
    "\n",
    "chi, p, dof, expected = chi2_contingency(contingency_table)\n",
    "print(f\"Chi Square-Value: {chi}\")\n",
    "print(f\"P-Value: {p}\")\n",
    "alpha= 0.05\n",
    "if p < alpha:\n",
    "    print(f\"Statistically, Smoking_Status has an impact on the Cancer_Type\")\n",
    "else:\n",
    "    print(f\"Statistically, Smoking_Status does not have an impact on the Cancer_Type\")"
   ]
  },
  {
   "cell_type": "code",
   "execution_count": 185,
   "id": "a33bf21d",
   "metadata": {},
   "outputs": [
    {
     "data": {
      "text/html": [
       "<div>\n",
       "<style scoped>\n",
       "    .dataframe tbody tr th:only-of-type {\n",
       "        vertical-align: middle;\n",
       "    }\n",
       "\n",
       "    .dataframe tbody tr th {\n",
       "        vertical-align: top;\n",
       "    }\n",
       "\n",
       "    .dataframe thead th {\n",
       "        text-align: right;\n",
       "    }\n",
       "</style>\n",
       "<table border=\"1\" class=\"dataframe\">\n",
       "  <thead>\n",
       "    <tr style=\"text-align: right;\">\n",
       "      <th>Outcome</th>\n",
       "      <th>Deceased</th>\n",
       "      <th>Recovered</th>\n",
       "      <th>Under Treatment</th>\n",
       "    </tr>\n",
       "    <tr>\n",
       "      <th>Smoking_Status</th>\n",
       "      <th></th>\n",
       "      <th></th>\n",
       "      <th></th>\n",
       "    </tr>\n",
       "  </thead>\n",
       "  <tbody>\n",
       "    <tr>\n",
       "      <th>Former Smoker</th>\n",
       "      <td>195</td>\n",
       "      <td>929</td>\n",
       "      <td>793</td>\n",
       "    </tr>\n",
       "    <tr>\n",
       "      <th>Non-Smoker</th>\n",
       "      <td>492</td>\n",
       "      <td>2515</td>\n",
       "      <td>2031</td>\n",
       "    </tr>\n",
       "    <tr>\n",
       "      <th>Smoker</th>\n",
       "      <td>305</td>\n",
       "      <td>1487</td>\n",
       "      <td>1253</td>\n",
       "    </tr>\n",
       "  </tbody>\n",
       "</table>\n",
       "</div>"
      ],
      "text/plain": [
       "Outcome         Deceased  Recovered  Under Treatment\n",
       "Smoking_Status                                      \n",
       "Former Smoker        195        929              793\n",
       "Non-Smoker           492       2515             2031\n",
       "Smoker               305       1487             1253"
      ]
     },
     "execution_count": 185,
     "metadata": {},
     "output_type": "execute_result"
    }
   ],
   "source": [
    "# Show the contigency_table\n",
    "contingency_table"
   ]
  },
  {
   "cell_type": "code",
   "execution_count": null,
   "id": "b580c346",
   "metadata": {},
   "outputs": [
    {
     "data": {
      "image/png": "[encoded data removed]",
      "text/plain": [
       "<Figure size 800x600 with 1 Axes>"
      ]
     },
     "metadata": {},
     "output_type": "display_data"
    }
   ],
   "source": [
    "# To visualize the relationship between smoker_status and outcome\n",
    "contingency_table.plot(kind='bar', stacked=True, figsize=(8,6), colormap='Pastel1')\n",
    "\n",
    "plt.title('Distribution of Outcome by Smoking Status')\n",
    "plt.xlabel('Smoking Status')\n",
    "plt.ylabel('Number of Patients')\n",
    "plt.legend(title='Outcome')\n",
    "plt.xticks(rotation=45)\n",
    "plt.tight_layout()\n",
    "plt.show()\n"
   ]
  },
  {
   "cell_type": "markdown",
   "id": "8a99b08a",
   "metadata": {},
   "source": [
    "##### To identify the top 5 most common Cancer Types and evaluate their respective recovery rates"
   ]
  },
  {
   "cell_type": "code",
   "execution_count": 191,
   "id": "f7ac7b6e",
   "metadata": {},
   "outputs": [
    {
     "data": {
      "text/plain": [
       "Cancer_Type\n",
       "Leukemia      1314\n",
       "Liver         1263\n",
       "Ovarian       1259\n",
       "Pancreatic    1243\n",
       "Breast        1241\n",
       "Lung          1233\n",
       "Colorectal    1226\n",
       "Prostate      1221\n",
       "Name: count, dtype: int64"
      ]
     },
     "execution_count": 191,
     "metadata": {},
     "output_type": "execute_result"
    }
   ],
   "source": [
    "# Check the value counts for the cancer type categories\n",
    "df['Cancer_Type'].value_counts()"
   ]
  },
  {
   "cell_type": "code",
   "execution_count": 210,
   "id": "354e9376",
   "metadata": {},
   "outputs": [
    {
     "data": {
      "text/plain": [
       "Cancer_Type\n",
       "leukemia      1314\n",
       "liver         1263\n",
       "ovarian       1259\n",
       "pancreatic    1243\n",
       "breast        1241\n",
       "Name: count, dtype: int64"
      ]
     },
     "execution_count": 210,
     "metadata": {},
     "output_type": "execute_result"
    }
   ],
   "source": [
    "# Top 5 cancer_type\n",
    "df['Cancer_Type'].value_counts().head(5)"
   ]
  },
  {
   "cell_type": "code",
   "execution_count": null,
   "id": "e9d9fa4b",
   "metadata": {},
   "outputs": [
    {
     "data": {
      "text/html": [
       "<div>\n",
       "<style scoped>\n",
       "    .dataframe tbody tr th:only-of-type {\n",
       "        vertical-align: middle;\n",
       "    }\n",
       "\n",
       "    .dataframe tbody tr th {\n",
       "        vertical-align: top;\n",
       "    }\n",
       "\n",
       "    .dataframe thead th {\n",
       "        text-align: right;\n",
       "    }\n",
       "</style>\n",
       "<table border=\"1\" class=\"dataframe\">\n",
       "  <thead>\n",
       "    <tr style=\"text-align: right;\">\n",
       "      <th></th>\n",
       "      <th>Patient_ID</th>\n",
       "      <th>Age</th>\n",
       "      <th>Gender</th>\n",
       "      <th>Nationality</th>\n",
       "      <th>Emirate</th>\n",
       "      <th>Diagnosis_Date</th>\n",
       "      <th>Cancer_Type</th>\n",
       "      <th>Cancer_Stage</th>\n",
       "      <th>Treatment_Type</th>\n",
       "      <th>Treatment_Start_Date</th>\n",
       "      <th>...</th>\n",
       "      <th>Primary_Physician</th>\n",
       "      <th>Outcome</th>\n",
       "      <th>Death_Date</th>\n",
       "      <th>Cause_of_Death</th>\n",
       "      <th>Smoking_Status</th>\n",
       "      <th>Comorbidities</th>\n",
       "      <th>Ethnicity</th>\n",
       "      <th>Weight</th>\n",
       "      <th>Height</th>\n",
       "      <th>Diagnosis_Year</th>\n",
       "    </tr>\n",
       "  </thead>\n",
       "  <tbody>\n",
       "    <tr>\n",
       "      <th>0</th>\n",
       "      <td>PAT000001</td>\n",
       "      <td>69</td>\n",
       "      <td>Female</td>\n",
       "      <td>Emirati</td>\n",
       "      <td>Umm Al Quwain</td>\n",
       "      <td>2020-11-30</td>\n",
       "      <td>liver</td>\n",
       "      <td>II</td>\n",
       "      <td>Radiation</td>\n",
       "      <td>2020-12-04</td>\n",
       "      <td>...</td>\n",
       "      <td>Dr. VO41</td>\n",
       "      <td>Recovered</td>\n",
       "      <td>NaN</td>\n",
       "      <td>NaN</td>\n",
       "      <td>Non-Smoker</td>\n",
       "      <td>NaN</td>\n",
       "      <td>European</td>\n",
       "      <td>61</td>\n",
       "      <td>157</td>\n",
       "      <td>2020</td>\n",
       "    </tr>\n",
       "    <tr>\n",
       "      <th>1</th>\n",
       "      <td>PAT000002</td>\n",
       "      <td>32</td>\n",
       "      <td>Male</td>\n",
       "      <td>Emirati</td>\n",
       "      <td>Umm Al Quwain</td>\n",
       "      <td>2015-10-10</td>\n",
       "      <td>leukemia</td>\n",
       "      <td>III</td>\n",
       "      <td>Surgery</td>\n",
       "      <td>2015-11-05</td>\n",
       "      <td>...</td>\n",
       "      <td>Dr. SM31</td>\n",
       "      <td>Recovered</td>\n",
       "      <td>NaN</td>\n",
       "      <td>NaN</td>\n",
       "      <td>Smoker</td>\n",
       "      <td>NaN</td>\n",
       "      <td>South Asian</td>\n",
       "      <td>80</td>\n",
       "      <td>175</td>\n",
       "      <td>2015</td>\n",
       "    </tr>\n",
       "    <tr>\n",
       "      <th>2</th>\n",
       "      <td>PAT000003</td>\n",
       "      <td>89</td>\n",
       "      <td>Male</td>\n",
       "      <td>Emirati</td>\n",
       "      <td>Abu Dhabi</td>\n",
       "      <td>2018-02-13</td>\n",
       "      <td>liver</td>\n",
       "      <td>III</td>\n",
       "      <td>Radiation</td>\n",
       "      <td>2018-08-03</td>\n",
       "      <td>...</td>\n",
       "      <td>Dr. BC7</td>\n",
       "      <td>Under Treatment</td>\n",
       "      <td>NaN</td>\n",
       "      <td>NaN</td>\n",
       "      <td>Non-Smoker</td>\n",
       "      <td>NaN</td>\n",
       "      <td>South Asian</td>\n",
       "      <td>50</td>\n",
       "      <td>175</td>\n",
       "      <td>2018</td>\n",
       "    </tr>\n",
       "    <tr>\n",
       "      <th>4</th>\n",
       "      <td>PAT000005</td>\n",
       "      <td>38</td>\n",
       "      <td>Female</td>\n",
       "      <td>Emirati</td>\n",
       "      <td>Fujairah</td>\n",
       "      <td>2019-12-03</td>\n",
       "      <td>pancreatic</td>\n",
       "      <td>II</td>\n",
       "      <td>Chemotherapy</td>\n",
       "      <td>2020-02-29</td>\n",
       "      <td>...</td>\n",
       "      <td>Dr. YS37</td>\n",
       "      <td>Recovered</td>\n",
       "      <td>NaN</td>\n",
       "      <td>NaN</td>\n",
       "      <td>Former Smoker</td>\n",
       "      <td>NaN</td>\n",
       "      <td>East Asian</td>\n",
       "      <td>101</td>\n",
       "      <td>160</td>\n",
       "      <td>2019</td>\n",
       "    </tr>\n",
       "    <tr>\n",
       "      <th>5</th>\n",
       "      <td>PAT000006</td>\n",
       "      <td>41</td>\n",
       "      <td>Female</td>\n",
       "      <td>Emirati</td>\n",
       "      <td>Abu Dhabi</td>\n",
       "      <td>2015-02-10</td>\n",
       "      <td>breast</td>\n",
       "      <td>I</td>\n",
       "      <td>Surgery</td>\n",
       "      <td>2015-04-21</td>\n",
       "      <td>...</td>\n",
       "      <td>Dr. ZL30</td>\n",
       "      <td>Recovered</td>\n",
       "      <td>NaN</td>\n",
       "      <td>NaN</td>\n",
       "      <td>Smoker</td>\n",
       "      <td>Hypertension</td>\n",
       "      <td>European</td>\n",
       "      <td>59</td>\n",
       "      <td>176</td>\n",
       "      <td>2015</td>\n",
       "    </tr>\n",
       "    <tr>\n",
       "      <th>...</th>\n",
       "      <td>...</td>\n",
       "      <td>...</td>\n",
       "      <td>...</td>\n",
       "      <td>...</td>\n",
       "      <td>...</td>\n",
       "      <td>...</td>\n",
       "      <td>...</td>\n",
       "      <td>...</td>\n",
       "      <td>...</td>\n",
       "      <td>...</td>\n",
       "      <td>...</td>\n",
       "      <td>...</td>\n",
       "      <td>...</td>\n",
       "      <td>...</td>\n",
       "      <td>...</td>\n",
       "      <td>...</td>\n",
       "      <td>...</td>\n",
       "      <td>...</td>\n",
       "      <td>...</td>\n",
       "      <td>...</td>\n",
       "      <td>...</td>\n",
       "    </tr>\n",
       "    <tr>\n",
       "      <th>9991</th>\n",
       "      <td>PAT009992</td>\n",
       "      <td>54</td>\n",
       "      <td>Female</td>\n",
       "      <td>Emirati</td>\n",
       "      <td>Ajman</td>\n",
       "      <td>2022-02-14</td>\n",
       "      <td>breast</td>\n",
       "      <td>IV</td>\n",
       "      <td>Immunotherapy</td>\n",
       "      <td>2022-02-27</td>\n",
       "      <td>...</td>\n",
       "      <td>Dr. QS48</td>\n",
       "      <td>Deceased</td>\n",
       "      <td>2023-05-17 00:00:00</td>\n",
       "      <td>Cancer</td>\n",
       "      <td>Non-Smoker</td>\n",
       "      <td>Cardiovascular Disease</td>\n",
       "      <td>South Asian</td>\n",
       "      <td>46</td>\n",
       "      <td>176</td>\n",
       "      <td>2022</td>\n",
       "    </tr>\n",
       "    <tr>\n",
       "      <th>9994</th>\n",
       "      <td>PAT009995</td>\n",
       "      <td>63</td>\n",
       "      <td>Female</td>\n",
       "      <td>Expatriate</td>\n",
       "      <td>Fujairah</td>\n",
       "      <td>2020-04-12</td>\n",
       "      <td>pancreatic</td>\n",
       "      <td>III</td>\n",
       "      <td>Chemotherapy</td>\n",
       "      <td>2020-10-03</td>\n",
       "      <td>...</td>\n",
       "      <td>Dr. WT6</td>\n",
       "      <td>Recovered</td>\n",
       "      <td>NaN</td>\n",
       "      <td>NaN</td>\n",
       "      <td>Smoker</td>\n",
       "      <td>Cardiovascular Disease</td>\n",
       "      <td>African</td>\n",
       "      <td>79</td>\n",
       "      <td>165</td>\n",
       "      <td>2020</td>\n",
       "    </tr>\n",
       "    <tr>\n",
       "      <th>9995</th>\n",
       "      <td>PAT009996</td>\n",
       "      <td>88</td>\n",
       "      <td>Male</td>\n",
       "      <td>Emirati</td>\n",
       "      <td>Ras Al Khaimah</td>\n",
       "      <td>2016-01-21</td>\n",
       "      <td>ovarian</td>\n",
       "      <td>II</td>\n",
       "      <td>Surgery</td>\n",
       "      <td>2016-04-03</td>\n",
       "      <td>...</td>\n",
       "      <td>Dr. FJ27</td>\n",
       "      <td>Recovered</td>\n",
       "      <td>NaN</td>\n",
       "      <td>NaN</td>\n",
       "      <td>Smoker</td>\n",
       "      <td>Cardiovascular Disease</td>\n",
       "      <td>European</td>\n",
       "      <td>55</td>\n",
       "      <td>168</td>\n",
       "      <td>2016</td>\n",
       "    </tr>\n",
       "    <tr>\n",
       "      <th>9996</th>\n",
       "      <td>PAT009997</td>\n",
       "      <td>43</td>\n",
       "      <td>Male</td>\n",
       "      <td>Emirati</td>\n",
       "      <td>Sharjah</td>\n",
       "      <td>2018-12-06</td>\n",
       "      <td>ovarian</td>\n",
       "      <td>III</td>\n",
       "      <td>Radiation</td>\n",
       "      <td>2019-03-23</td>\n",
       "      <td>...</td>\n",
       "      <td>Dr. JB17</td>\n",
       "      <td>Under Treatment</td>\n",
       "      <td>NaN</td>\n",
       "      <td>NaN</td>\n",
       "      <td>Non-Smoker</td>\n",
       "      <td>Diabetes</td>\n",
       "      <td>African</td>\n",
       "      <td>98</td>\n",
       "      <td>175</td>\n",
       "      <td>2018</td>\n",
       "    </tr>\n",
       "    <tr>\n",
       "      <th>9999</th>\n",
       "      <td>PAT010000</td>\n",
       "      <td>31</td>\n",
       "      <td>Male</td>\n",
       "      <td>Expatriate</td>\n",
       "      <td>Dubai</td>\n",
       "      <td>2017-09-16</td>\n",
       "      <td>liver</td>\n",
       "      <td>I</td>\n",
       "      <td>Radiation</td>\n",
       "      <td>2017-12-23</td>\n",
       "      <td>...</td>\n",
       "      <td>Dr. SI45</td>\n",
       "      <td>Under Treatment</td>\n",
       "      <td>NaN</td>\n",
       "      <td>NaN</td>\n",
       "      <td>Smoker</td>\n",
       "      <td>Hypertension</td>\n",
       "      <td>East Asian</td>\n",
       "      <td>56</td>\n",
       "      <td>173</td>\n",
       "      <td>2017</td>\n",
       "    </tr>\n",
       "  </tbody>\n",
       "</table>\n",
       "<p>6320 rows × 21 columns</p>\n",
       "</div>"
      ],
      "text/plain": [
       "     Patient_ID  Age  Gender Nationality         Emirate Diagnosis_Date  \\\n",
       "0     PAT000001   69  Female     Emirati   Umm Al Quwain     2020-11-30   \n",
       "1     PAT000002   32    Male     Emirati   Umm Al Quwain     2015-10-10   \n",
       "2     PAT000003   89    Male     Emirati       Abu Dhabi     2018-02-13   \n",
       "4     PAT000005   38  Female     Emirati        Fujairah     2019-12-03   \n",
       "5     PAT000006   41  Female     Emirati       Abu Dhabi     2015-02-10   \n",
       "...         ...  ...     ...         ...             ...            ...   \n",
       "9991  PAT009992   54  Female     Emirati           Ajman     2022-02-14   \n",
       "9994  PAT009995   63  Female  Expatriate        Fujairah     2020-04-12   \n",
       "9995  PAT009996   88    Male     Emirati  Ras Al Khaimah     2016-01-21   \n",
       "9996  PAT009997   43    Male     Emirati         Sharjah     2018-12-06   \n",
       "9999  PAT010000   31    Male  Expatriate           Dubai     2017-09-16   \n",
       "\n",
       "     Cancer_Type Cancer_Stage Treatment_Type Treatment_Start_Date  ...  \\\n",
       "0          liver           II      Radiation           2020-12-04  ...   \n",
       "1       leukemia          III        Surgery           2015-11-05  ...   \n",
       "2          liver          III      Radiation           2018-08-03  ...   \n",
       "4     pancreatic           II   Chemotherapy           2020-02-29  ...   \n",
       "5         breast            I        Surgery           2015-04-21  ...   \n",
       "...          ...          ...            ...                  ...  ...   \n",
       "9991      breast           IV  Immunotherapy           2022-02-27  ...   \n",
       "9994  pancreatic          III   Chemotherapy           2020-10-03  ...   \n",
       "9995     ovarian           II        Surgery           2016-04-03  ...   \n",
       "9996     ovarian          III      Radiation           2019-03-23  ...   \n",
       "9999       liver            I      Radiation           2017-12-23  ...   \n",
       "\n",
       "     Primary_Physician          Outcome           Death_Date Cause_of_Death  \\\n",
       "0             Dr. VO41        Recovered                  NaN            NaN   \n",
       "1             Dr. SM31        Recovered                  NaN            NaN   \n",
       "2              Dr. BC7  Under Treatment                  NaN            NaN   \n",
       "4             Dr. YS37        Recovered                  NaN            NaN   \n",
       "5             Dr. ZL30        Recovered                  NaN            NaN   \n",
       "...                ...              ...                  ...            ...   \n",
       "9991          Dr. QS48         Deceased  2023-05-17 00:00:00         Cancer   \n",
       "9994           Dr. WT6        Recovered                  NaN            NaN   \n",
       "9995          Dr. FJ27        Recovered                  NaN            NaN   \n",
       "9996          Dr. JB17  Under Treatment                  NaN            NaN   \n",
       "9999          Dr. SI45  Under Treatment                  NaN            NaN   \n",
       "\n",
       "     Smoking_Status           Comorbidities    Ethnicity Weight  Height  \\\n",
       "0        Non-Smoker                     NaN     European     61     157   \n",
       "1            Smoker                     NaN  South Asian     80     175   \n",
       "2        Non-Smoker                     NaN  South Asian     50     175   \n",
       "4     Former Smoker                     NaN   East Asian    101     160   \n",
       "5            Smoker            Hypertension     European     59     176   \n",
       "...             ...                     ...          ...    ...     ...   \n",
       "9991     Non-Smoker  Cardiovascular Disease  South Asian     46     176   \n",
       "9994         Smoker  Cardiovascular Disease      African     79     165   \n",
       "9995         Smoker  Cardiovascular Disease     European     55     168   \n",
       "9996     Non-Smoker                Diabetes      African     98     175   \n",
       "9999         Smoker            Hypertension   East Asian     56     173   \n",
       "\n",
       "      Diagnosis_Year  \n",
       "0               2020  \n",
       "1               2015  \n",
       "2               2018  \n",
       "4               2019  \n",
       "5               2015  \n",
       "...              ...  \n",
       "9991            2022  \n",
       "9994            2020  \n",
       "9995            2016  \n",
       "9996            2018  \n",
       "9999            2017  \n",
       "\n",
       "[6320 rows x 21 columns]"
      ]
     },
     "execution_count": 207,
     "metadata": {},
     "output_type": "execute_result"
    }
   ],
   "source": [
    "# To standardize  Cancer_Type column\n",
    "df['Cancer_Type'] = df['Cancer_Type'].str.strip().str.lower()\n",
    "\n",
    "# To get the top cancer type as index and convert to a list\n",
    "top_5_cancer_type = df['Cancer_Type'].value_counts().head(5).index.tolist()\n",
    "\n",
    "# To filter the top 5 cancer type dataframe\n",
    "top_5_cancer_type_data = df[df['Cancer_Type'].isin(top_5_cancer_type)]\n",
    "\n",
    "top_5_cancer_type_data\n"
   ]
  },
  {
   "cell_type": "code",
   "execution_count": 209,
   "id": "9332056c",
   "metadata": {},
   "outputs": [
    {
     "data": {
      "text/html": [
       "<div>\n",
       "<style scoped>\n",
       "    .dataframe tbody tr th:only-of-type {\n",
       "        vertical-align: middle;\n",
       "    }\n",
       "\n",
       "    .dataframe tbody tr th {\n",
       "        vertical-align: top;\n",
       "    }\n",
       "\n",
       "    .dataframe thead th {\n",
       "        text-align: right;\n",
       "    }\n",
       "</style>\n",
       "<table border=\"1\" class=\"dataframe\">\n",
       "  <thead>\n",
       "    <tr style=\"text-align: right;\">\n",
       "      <th>Outcome</th>\n",
       "      <th>Deceased</th>\n",
       "      <th>Recovered</th>\n",
       "      <th>Under Treatment</th>\n",
       "    </tr>\n",
       "    <tr>\n",
       "      <th>Cancer_Type</th>\n",
       "      <th></th>\n",
       "      <th></th>\n",
       "      <th></th>\n",
       "    </tr>\n",
       "  </thead>\n",
       "  <tbody>\n",
       "    <tr>\n",
       "      <th>breast</th>\n",
       "      <td>120</td>\n",
       "      <td>614</td>\n",
       "      <td>507</td>\n",
       "    </tr>\n",
       "    <tr>\n",
       "      <th>leukemia</th>\n",
       "      <td>127</td>\n",
       "      <td>660</td>\n",
       "      <td>527</td>\n",
       "    </tr>\n",
       "    <tr>\n",
       "      <th>liver</th>\n",
       "      <td>115</td>\n",
       "      <td>630</td>\n",
       "      <td>518</td>\n",
       "    </tr>\n",
       "    <tr>\n",
       "      <th>ovarian</th>\n",
       "      <td>128</td>\n",
       "      <td>601</td>\n",
       "      <td>530</td>\n",
       "    </tr>\n",
       "    <tr>\n",
       "      <th>pancreatic</th>\n",
       "      <td>145</td>\n",
       "      <td>594</td>\n",
       "      <td>504</td>\n",
       "    </tr>\n",
       "  </tbody>\n",
       "</table>\n",
       "</div>"
      ],
      "text/plain": [
       "Outcome      Deceased  Recovered  Under Treatment\n",
       "Cancer_Type                                      \n",
       "breast            120        614              507\n",
       "leukemia          127        660              527\n",
       "liver             115        630              518\n",
       "ovarian           128        601              530\n",
       "pancreatic        145        594              504"
      ]
     },
     "execution_count": 209,
     "metadata": {},
     "output_type": "execute_result"
    }
   ],
   "source": [
    "# To group cancer type by the outcome\n",
    "cancer_type_by_outcome = top_5_cancer_type_data.groupby('Cancer_Type')['Outcome'].value_counts().unstack()\n",
    "\n",
    "cancer_type_by_outcome"
   ]
  },
  {
   "cell_type": "code",
   "execution_count": 211,
   "id": "dd3834e2",
   "metadata": {},
   "outputs": [
    {
     "name": "stdout",
     "output_type": "stream",
     "text": [
      "Cancer_Type\n",
      "breast        614\n",
      "leukemia      660\n",
      "liver         630\n",
      "ovarian       601\n",
      "pancreatic    594\n",
      "Name: Recovered, dtype: int64\n"
     ]
    }
   ],
   "source": [
    "# To get the recovery rate of top 5 cancer type\n",
    "recovery_rate_top5_cancer_type = cancer_type_by_outcome['Recovered']\n",
    "print(recovery_rate_top5_cancer_type)"
   ]
  },
  {
   "cell_type": "code",
   "execution_count": 214,
   "id": "24d4c673",
   "metadata": {},
   "outputs": [
    {
     "data": {
      "image/png": "[encoded data removed]",
      "text/plain": [
       "<Figure size 700x600 with 1 Axes>"
      ]
     },
     "metadata": {},
     "output_type": "display_data"
    }
   ],
   "source": [
    "# To visualize the recovery rate\n",
    "recovery_rate_top5_cancer_type.plot(kind='barh', figsize=(7,6))\n",
    "plt.xlabel('Recovery Rate')\n",
    "plt.ylabel('Cancer Type')\n",
    "plt.title('Recovery Rate for the Top 5 Cancer Type')\n",
    "plt.tight_layout()\n",
    "plt.show()\n"
   ]
  }
 ],
 "metadata": {
  "kernelspec": {
   "display_name": "venv",
   "language": "python",
   "name": "python3"
  },
  "language_info": {
   "codemirror_mode": {
    "name": "ipython",
    "version": 3
   },
   "file_extension": ".py",
   "mimetype": "text/x-python",
   "name": "python",
   "nbconvert_exporter": "python",
   "pygments_lexer": "ipython3",
   "version": "3.11.1"
  }
 },
 "nbformat": 4,
 "nbformat_minor": 5
}
